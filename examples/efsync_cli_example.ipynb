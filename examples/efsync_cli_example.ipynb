{
 "cells": [
  {
   "cell_type": "markdown",
   "metadata": {
    "colab_type": "text",
    "id": "4M38h_Sxipqq"
   },
   "source": [
    "# Example Notebook for efsync\n",
    "\n",
    "this notebooks includes examples for the `CLI` and the `SDK`. \n",
    "\n",
    "This Notebook cannot be runned in google colab. We cannot run it in google colab to pls download it and try it on your local pc."
   ]
  },
  {
   "cell_type": "markdown",
   "metadata": {
    "colab_type": "text",
    "id": "8f0omB1hiyXB"
   },
   "source": [
    "# Install the library"
   ]
  },
  {
   "cell_type": "code",
   "execution_count": 1,
   "metadata": {
    "scrolled": false
   },
   "outputs": [
    {
     "name": "stdout",
     "output_type": "stream",
     "text": [
      "/Users/philippschmid/projects/personal/efsync\n",
      "['efsync', 'efsync.test', 'efsync.utils', 'efsync.utils.helper']\n",
      "running sdist\n",
      "running egg_info\n",
      "writing efsync.egg-info/PKG-INFO\n",
      "writing dependency_links to efsync.egg-info/dependency_links.txt\n",
      "writing entry points to efsync.egg-info/entry_points.txt\n",
      "writing requirements to efsync.egg-info/requires.txt\n",
      "writing top-level names to efsync.egg-info/top_level.txt\n",
      "reading manifest file 'efsync.egg-info/SOURCES.txt'\n",
      "reading manifest template 'MANIFEST.in'\n",
      "writing manifest file 'efsync.egg-info/SOURCES.txt'\n",
      "running check\n",
      "creating efsync-0.4.0\n",
      "creating efsync-0.4.0/efsync\n",
      "creating efsync-0.4.0/efsync.egg-info\n",
      "creating efsync-0.4.0/efsync/test\n",
      "creating efsync-0.4.0/efsync/utils\n",
      "creating efsync-0.4.0/efsync/utils/helper\n",
      "copying files to efsync-0.4.0...\n",
      "copying LICENSE -> efsync-0.4.0\n",
      "copying MANIFEST.in -> efsync-0.4.0\n",
      "copying README.md -> efsync-0.4.0\n",
      "copying setup.py -> efsync-0.4.0\n",
      "copying efsync/__init__.py -> efsync-0.4.0/efsync\n",
      "copying efsync/efsync_cli.py -> efsync-0.4.0/efsync\n",
      "copying efsync/logger.py -> efsync-0.4.0/efsync\n",
      "copying efsync/main.py -> efsync-0.4.0/efsync\n",
      "copying efsync.egg-info/PKG-INFO -> efsync-0.4.0/efsync.egg-info\n",
      "copying efsync.egg-info/SOURCES.txt -> efsync-0.4.0/efsync.egg-info\n",
      "copying efsync.egg-info/dependency_links.txt -> efsync-0.4.0/efsync.egg-info\n",
      "copying efsync.egg-info/entry_points.txt -> efsync-0.4.0/efsync.egg-info\n",
      "copying efsync.egg-info/requires.txt -> efsync-0.4.0/efsync.egg-info\n",
      "copying efsync.egg-info/top_level.txt -> efsync-0.4.0/efsync.egg-info\n",
      "copying efsync/test/__init__.py -> efsync-0.4.0/efsync/test\n",
      "copying efsync/test/test_main.py -> efsync-0.4.0/efsync/test\n",
      "copying efsync/test/test_utils.py -> efsync-0.4.0/efsync/test\n",
      "copying efsync/utils/__init__.py -> efsync-0.4.0/efsync/utils\n",
      "copying efsync/utils/dir.py -> efsync-0.4.0/efsync/utils\n",
      "copying efsync/utils/ec2_install_pip.py -> efsync-0.4.0/efsync/utils\n",
      "copying efsync/utils/ec2_instance.py -> efsync-0.4.0/efsync/utils\n",
      "copying efsync/utils/ec2_mount_efs.py -> efsync-0.4.0/efsync/utils\n",
      "copying efsync/utils/ec2_security_group.py -> efsync-0.4.0/efsync/utils\n",
      "copying efsync/utils/ec2_waiter.py -> efsync-0.4.0/efsync/utils\n",
      "copying efsync/utils/pip_install_local.py -> efsync-0.4.0/efsync/utils\n",
      "copying efsync/utils/scp_to_ec2.py -> efsync-0.4.0/efsync/utils\n",
      "copying efsync/utils/ssh_key.py -> efsync-0.4.0/efsync/utils\n",
      "copying efsync/utils/helper/__init__.py -> efsync-0.4.0/efsync/utils/helper\n",
      "copying efsync/utils/helper/createSSHClient.py -> efsync-0.4.0/efsync/utils/helper\n",
      "Writing efsync-0.4.0/setup.cfg\n",
      "creating dist\n",
      "Creating tar archive\n",
      "removing 'efsync-0.4.0' (and everything under it)\n",
      "running bdist_wheel\n",
      "running build\n",
      "running build_py\n",
      "creating build\n",
      "creating build/lib\n",
      "creating build/lib/efsync\n",
      "copying efsync/efsync_cli.py -> build/lib/efsync\n",
      "copying efsync/__init__.py -> build/lib/efsync\n",
      "copying efsync/logger.py -> build/lib/efsync\n",
      "copying efsync/main.py -> build/lib/efsync\n",
      "creating build/lib/efsync/test\n",
      "copying efsync/test/test_utils.py -> build/lib/efsync/test\n",
      "copying efsync/test/__init__.py -> build/lib/efsync/test\n",
      "copying efsync/test/test_main.py -> build/lib/efsync/test\n",
      "creating build/lib/efsync/utils\n",
      "copying efsync/utils/ssh_key.py -> build/lib/efsync/utils\n",
      "copying efsync/utils/ec2_waiter.py -> build/lib/efsync/utils\n",
      "copying efsync/utils/dir.py -> build/lib/efsync/utils\n",
      "copying efsync/utils/scp_to_ec2.py -> build/lib/efsync/utils\n",
      "copying efsync/utils/pip_install_local.py -> build/lib/efsync/utils\n",
      "copying efsync/utils/__init__.py -> build/lib/efsync/utils\n",
      "copying efsync/utils/ec2_install_pip.py -> build/lib/efsync/utils\n",
      "copying efsync/utils/ec2_mount_efs.py -> build/lib/efsync/utils\n",
      "copying efsync/utils/ec2_security_group.py -> build/lib/efsync/utils\n",
      "copying efsync/utils/ec2_instance.py -> build/lib/efsync/utils\n",
      "creating build/lib/efsync/utils/helper\n",
      "copying efsync/utils/helper/createSSHClient.py -> build/lib/efsync/utils/helper\n",
      "copying efsync/utils/helper/__init__.py -> build/lib/efsync/utils/helper\n",
      "installing to build/bdist.macosx-10.9-x86_64/wheel\n",
      "running install\n",
      "running install_lib\n",
      "creating build/bdist.macosx-10.9-x86_64\n",
      "creating build/bdist.macosx-10.9-x86_64/wheel\n",
      "creating build/bdist.macosx-10.9-x86_64/wheel/efsync\n",
      "creating build/bdist.macosx-10.9-x86_64/wheel/efsync/test\n",
      "copying build/lib/efsync/test/test_utils.py -> build/bdist.macosx-10.9-x86_64/wheel/efsync/test\n",
      "copying build/lib/efsync/test/__init__.py -> build/bdist.macosx-10.9-x86_64/wheel/efsync/test\n",
      "copying build/lib/efsync/test/test_main.py -> build/bdist.macosx-10.9-x86_64/wheel/efsync/test\n",
      "copying build/lib/efsync/efsync_cli.py -> build/bdist.macosx-10.9-x86_64/wheel/efsync\n",
      "copying build/lib/efsync/__init__.py -> build/bdist.macosx-10.9-x86_64/wheel/efsync\n",
      "creating build/bdist.macosx-10.9-x86_64/wheel/efsync/utils\n",
      "copying build/lib/efsync/utils/ssh_key.py -> build/bdist.macosx-10.9-x86_64/wheel/efsync/utils\n",
      "copying build/lib/efsync/utils/ec2_waiter.py -> build/bdist.macosx-10.9-x86_64/wheel/efsync/utils\n",
      "copying build/lib/efsync/utils/dir.py -> build/bdist.macosx-10.9-x86_64/wheel/efsync/utils\n",
      "copying build/lib/efsync/utils/scp_to_ec2.py -> build/bdist.macosx-10.9-x86_64/wheel/efsync/utils\n",
      "copying build/lib/efsync/utils/pip_install_local.py -> build/bdist.macosx-10.9-x86_64/wheel/efsync/utils\n",
      "copying build/lib/efsync/utils/__init__.py -> build/bdist.macosx-10.9-x86_64/wheel/efsync/utils\n",
      "copying build/lib/efsync/utils/ec2_install_pip.py -> build/bdist.macosx-10.9-x86_64/wheel/efsync/utils\n",
      "copying build/lib/efsync/utils/ec2_mount_efs.py -> build/bdist.macosx-10.9-x86_64/wheel/efsync/utils\n",
      "copying build/lib/efsync/utils/ec2_security_group.py -> build/bdist.macosx-10.9-x86_64/wheel/efsync/utils\n",
      "copying build/lib/efsync/utils/ec2_instance.py -> build/bdist.macosx-10.9-x86_64/wheel/efsync/utils\n",
      "creating build/bdist.macosx-10.9-x86_64/wheel/efsync/utils/helper\n",
      "copying build/lib/efsync/utils/helper/createSSHClient.py -> build/bdist.macosx-10.9-x86_64/wheel/efsync/utils/helper\n",
      "copying build/lib/efsync/utils/helper/__init__.py -> build/bdist.macosx-10.9-x86_64/wheel/efsync/utils/helper\n",
      "copying build/lib/efsync/logger.py -> build/bdist.macosx-10.9-x86_64/wheel/efsync\n",
      "copying build/lib/efsync/main.py -> build/bdist.macosx-10.9-x86_64/wheel/efsync\n",
      "running install_egg_info\n",
      "Copying efsync.egg-info to build/bdist.macosx-10.9-x86_64/wheel/efsync-0.4.0-py3.7.egg-info\n",
      "running install_scripts\n",
      "adding license file \"LICENSE\" (matched pattern \"LICEN[CS]E*\")\n",
      "creating build/bdist.macosx-10.9-x86_64/wheel/efsync-0.4.0.dist-info/WHEEL\n",
      "creating 'dist/efsync-0.4.0-py3-none-any.whl' and adding 'build/bdist.macosx-10.9-x86_64/wheel' to it\n",
      "adding 'efsync/__init__.py'\n",
      "adding 'efsync/efsync_cli.py'\n",
      "adding 'efsync/logger.py'\n",
      "adding 'efsync/main.py'\n",
      "adding 'efsync/test/__init__.py'\n",
      "adding 'efsync/test/test_main.py'\n",
      "adding 'efsync/test/test_utils.py'\n",
      "adding 'efsync/utils/__init__.py'\n",
      "adding 'efsync/utils/dir.py'\n",
      "adding 'efsync/utils/ec2_install_pip.py'\n",
      "adding 'efsync/utils/ec2_instance.py'\n",
      "adding 'efsync/utils/ec2_mount_efs.py'\n",
      "adding 'efsync/utils/ec2_security_group.py'\n",
      "adding 'efsync/utils/ec2_waiter.py'\n",
      "adding 'efsync/utils/pip_install_local.py'\n",
      "adding 'efsync/utils/scp_to_ec2.py'\n",
      "adding 'efsync/utils/ssh_key.py'\n",
      "adding 'efsync/utils/helper/__init__.py'\n",
      "adding 'efsync/utils/helper/createSSHClient.py'\n",
      "adding 'efsync-0.4.0.dist-info/LICENSE'\n",
      "adding 'efsync-0.4.0.dist-info/METADATA'\n",
      "adding 'efsync-0.4.0.dist-info/WHEEL'\n",
      "adding 'efsync-0.4.0.dist-info/entry_points.txt'\n",
      "adding 'efsync-0.4.0.dist-info/top_level.txt'\n",
      "adding 'efsync-0.4.0.dist-info/RECORD'\n",
      "removing build/bdist.macosx-10.9-x86_64/wheel\n"
     ]
    }
   ],
   "source": [
    "%cd ..\n",
    "!python3 setup.py sdist bdist_wheel"
   ]
  },
  {
   "cell_type": "code",
   "execution_count": 2,
   "metadata": {},
   "outputs": [
    {
     "name": "stdout",
     "output_type": "stream",
     "text": [
      "Processing ./dist/efsync-0.4.0-py3-none-any.whl\n",
      "Requirement already satisfied: paramiko in /Users/philippschmid/.anaconda3/envs/dev/lib/python3.7/site-packages (from efsync==0.4.0) (2.7.1)\n",
      "Requirement already satisfied: boto3 in /Users/philippschmid/.anaconda3/envs/dev/lib/python3.7/site-packages (from efsync==0.4.0) (1.9.66)\n",
      "Requirement already satisfied: pyaml in /Users/philippschmid/.anaconda3/envs/dev/lib/python3.7/site-packages (from efsync==0.4.0) (20.4.0)\n",
      "Requirement already satisfied: scp in /Users/philippschmid/.anaconda3/envs/dev/lib/python3.7/site-packages (from efsync==0.4.0) (0.13.2)\n",
      "Requirement already satisfied: cryptography>=2.5 in /Users/philippschmid/.anaconda3/envs/dev/lib/python3.7/site-packages (from paramiko->efsync==0.4.0) (2.9.2)\n",
      "Requirement already satisfied: pynacl>=1.0.1 in /Users/philippschmid/.anaconda3/envs/dev/lib/python3.7/site-packages (from paramiko->efsync==0.4.0) (1.3.0)\n",
      "Requirement already satisfied: bcrypt>=3.1.3 in /Users/philippschmid/.anaconda3/envs/dev/lib/python3.7/site-packages (from paramiko->efsync==0.4.0) (3.1.7)\n",
      "Requirement already satisfied: botocore<1.13.0,>=1.12.66 in /Users/philippschmid/.anaconda3/envs/dev/lib/python3.7/site-packages (from boto3->efsync==0.4.0) (1.12.253)\n",
      "Requirement already satisfied: jmespath<1.0.0,>=0.7.1 in /Users/philippschmid/.anaconda3/envs/dev/lib/python3.7/site-packages (from boto3->efsync==0.4.0) (0.9.5)\n",
      "Requirement already satisfied: s3transfer<0.2.0,>=0.1.10 in /Users/philippschmid/.anaconda3/envs/dev/lib/python3.7/site-packages (from boto3->efsync==0.4.0) (0.1.13)\n",
      "Requirement already satisfied: PyYAML in /Users/philippschmid/.anaconda3/envs/dev/lib/python3.7/site-packages (from pyaml->efsync==0.4.0) (5.3.1)\n",
      "Requirement already satisfied: six>=1.4.1 in /Users/philippschmid/.anaconda3/envs/dev/lib/python3.7/site-packages (from cryptography>=2.5->paramiko->efsync==0.4.0) (1.14.0)\n",
      "Requirement already satisfied: cffi!=1.11.3,>=1.8 in /Users/philippschmid/.anaconda3/envs/dev/lib/python3.7/site-packages (from cryptography>=2.5->paramiko->efsync==0.4.0) (1.14.0)\n",
      "Requirement already satisfied: urllib3<1.26,>=1.20; python_version >= \"3.4\" in /Users/philippschmid/.anaconda3/envs/dev/lib/python3.7/site-packages (from botocore<1.13.0,>=1.12.66->boto3->efsync==0.4.0) (1.25.8)\n",
      "Requirement already satisfied: python-dateutil<3.0.0,>=2.1; python_version >= \"2.7\" in /Users/philippschmid/.anaconda3/envs/dev/lib/python3.7/site-packages (from botocore<1.13.0,>=1.12.66->boto3->efsync==0.4.0) (2.8.1)\n",
      "Requirement already satisfied: docutils<0.16,>=0.10 in /Users/philippschmid/.anaconda3/envs/dev/lib/python3.7/site-packages (from botocore<1.13.0,>=1.12.66->boto3->efsync==0.4.0) (0.15.2)\n",
      "Requirement already satisfied: pycparser in /Users/philippschmid/.anaconda3/envs/dev/lib/python3.7/site-packages (from cffi!=1.11.3,>=1.8->cryptography>=2.5->paramiko->efsync==0.4.0) (2.20)\n",
      "Installing collected packages: efsync\n",
      "  Attempting uninstall: efsync\n",
      "    Found existing installation: efsync 0.2.10\n",
      "    Uninstalling efsync-0.2.10:\n",
      "      Successfully uninstalled efsync-0.2.10\n",
      "Successfully installed efsync-0.4.0\n"
     ]
    }
   ],
   "source": [
    "! pip install dist/efsync-0.4.0-py3-none-any.whl "
   ]
  },
  {
   "cell_type": "code",
   "execution_count": 3,
   "metadata": {},
   "outputs": [],
   "source": [
    "#!pip install efsync --upgrade"
   ]
  },
  {
   "cell_type": "code",
   "execution_count": 4,
   "metadata": {
    "scrolled": true
   },
   "outputs": [
    {
     "name": "stdout",
     "output_type": "stream",
     "text": [
      "/Users/philippschmid/projects/personal/efsync/examples\n"
     ]
    }
   ],
   "source": [
    "%cd examples "
   ]
  },
  {
   "cell_type": "markdown",
   "metadata": {
    "colab_type": "text",
    "id": "fb2Gk-a-i2TZ"
   },
   "source": [
    "### check if it works"
   ]
  },
  {
   "cell_type": "code",
   "execution_count": 5,
   "metadata": {
    "colab": {
     "base_uri": "https://localhost:8080/",
     "height": 35
    },
    "colab_type": "code",
    "id": "LtoHAA__tq20",
    "outputId": "0867965b-b2e4-4926-ed89-9e9cb76503cf"
   },
   "outputs": [
    {
     "name": "stdout",
     "output_type": "stream",
     "text": [
      "efsync==0.4.0\r\n"
     ]
    }
   ],
   "source": [
    "!pip freeze | grep efsync"
   ]
  },
  {
   "cell_type": "code",
   "execution_count": 6,
   "metadata": {
    "colab": {
     "base_uri": "https://localhost:8080/",
     "height": 545
    },
    "colab_type": "code",
    "id": "3hc0yBfnWtj0",
    "outputId": "d3a43af3-bd5d-4c03-b96a-b2813229c90d"
   },
   "outputs": [
    {
     "name": "stdout",
     "output_type": "stream",
     "text": [
      "usage: efsync <command> [<args>]\r\n",
      "\r\n",
      "optional arguments:\r\n",
      "  -h, --help            show this help message and exit\r\n",
      "  --version, -v         show program version\r\n",
      "  --requirements REQUIREMENTS, -r REQUIREMENTS\r\n",
      "                        path of your requirements.txt\r\n",
      "  --config_file CONFIG_FILE, -cf CONFIG_FILE\r\n",
      "                        path of your efsync.yaml\r\n",
      "  --python_version PYTHON_VERSION, -py PYTHON_VERSION\r\n",
      "                        Python version used to install dependencies\r\n",
      "  --efs_pip_dir EFS_PIP_DIR, -epd EFS_PIP_DIR\r\n",
      "                        directory where the pip packages will be installed on\r\n",
      "                        efs\r\n",
      "  --efs_filesystem_id EFS_FILESYSTEM_ID, -efi EFS_FILESYSTEM_ID\r\n",
      "                        File System ID from the EFS filesystem\r\n",
      "  --clean_efs CLEAN_EFS, -ce CLEAN_EFS\r\n",
      "                        Defines if the efs should be cleaned up before\r\n",
      "                        uploading\r\n",
      "  --file_dir FILE_DIR, -fd FILE_DIR\r\n",
      "                        directory where all other files will be placed\r\n",
      "  --aws_profile AWS_PROFILE, -ap AWS_PROFILE\r\n",
      "                        name of the used AWS profile\r\n",
      "  --aws_region AWS_REGION, -ar AWS_REGION\r\n",
      "                        aws region where the efs is running\r\n",
      "  --subnet_Id SUBNET_ID, -sbd SUBNET_ID\r\n",
      "                        subnet id of the efs\r\n",
      "  --ec2_key_name EC2_KEY_NAME, -ekn EC2_KEY_NAME\r\n",
      "                        temporary key name for the ec2 instance\r\n",
      "  --file_dir_on_ec2 FILE_DIR_ON_EC2, -fdoe FILE_DIR_ON_EC2\r\n",
      "                        name of the directory where your file from <file_dir>\r\n",
      "                        will be uploaded\r\n"
     ]
    }
   ],
   "source": [
    "!efsync -h"
   ]
  },
  {
   "cell_type": "code",
   "execution_count": 7,
   "metadata": {
    "colab": {},
    "colab_type": "code",
    "id": "zuULJ80XX35E"
   },
   "outputs": [],
   "source": [
    "from efsync import efsync"
   ]
  },
  {
   "cell_type": "markdown",
   "metadata": {
    "colab_type": "text",
    "id": "S8eFPOQei7DV"
   },
   "source": [
    "# Configure AWS Credentials"
   ]
  },
  {
   "cell_type": "markdown",
   "metadata": {
    "colab_type": "text",
    "id": "mE7OJZVcjkGh"
   },
   "source": [
    "you need programmatic access to the AWS Account. The easiest way is a user with `FullAdminaccess`, but i don´t recommend this."
   ]
  },
  {
   "cell_type": "code",
   "execution_count": 8,
   "metadata": {
    "colab": {},
    "colab_type": "code",
    "id": "6p8dRyxFi-L2"
   },
   "outputs": [],
   "source": [
    "#!aws configure efsync "
   ]
  },
  {
   "cell_type": "markdown",
   "metadata": {
    "colab_type": "text",
    "id": "0zGYPaQanFD8"
   },
   "source": [
    "# SDK Example with `efsync.yaml`\n"
   ]
  },
  {
   "cell_type": "markdown",
   "metadata": {
    "colab_type": "text",
    "id": "wH_TUhesoY85"
   },
   "source": [
    "Create a `efsync.yaml`"
   ]
  },
  {
   "cell_type": "code",
   "execution_count": null,
   "metadata": {},
   "outputs": [],
   "source": [
    "%%writefile ./efsync.yaml\n",
    "\n",
    "#lambda ci python version for pip installation\n",
    "python_version: 3.8\n",
    "# pip directory\n",
    "efs_pip_dir: lib\n",
    "# extra directory for file upload like ML models\n",
    "file_dir: efsync/test/data\n",
    "# name of the directory where your file from <file_dir> will be uploaded\n",
    "file_dir_on_ec2: ml\n",
    "# requirements path/file\n",
    "requirements: requirements.txt\n",
    "# Defines if the efs should be cleaned up before uploading\n",
    "clean_efs: True\n",
    "# aws profile configuration\n",
    "aws_profile: <your-prefered-aws-profile>\n",
    "aws_region: <your-region>\n",
    "\n",
    "#aws vpc and ec2 shit\n",
    "efs_filesystem_id: <efs_filesystem_id>\n",
    "subnet_Id: <subnet_Id> \n",
    "ec2_key_name: <ec2_key_name>"
   ]
  },
  {
   "cell_type": "code",
   "execution_count": 9,
   "metadata": {
    "colab": {
     "base_uri": "https://localhost:8080/",
     "height": 35
    },
    "colab_type": "code",
    "id": "LuZFe36GnEsj",
    "outputId": "226cb65c-573a-420d-823e-a13414428011"
   },
   "outputs": [
    {
     "name": "stdout",
     "output_type": "stream",
     "text": [
      "Writing ./efsync.yaml\n"
     ]
    }
   ],
   "source": [
    "%%writefile ./efsync.yaml\n",
    "\n",
    "#lambda ci python version for pip installation\n",
    "python_version: 3.8\n",
    "# pip directory\n",
    "efs_pip_dir: lib\n",
    "# extra directory for file upload like ML models\n",
    "file_dir: efsync/test/data\n",
    "# name of the directory where your file from <file_dir> will be uploaded\n",
    "file_dir_on_ec2: ml\n",
    "# requirements path/file\n",
    "requirements: requirements.txt\n",
    "# Defines if the efs should be cleaned up before uploading\n",
    "clean_efs: True\n",
    "# aws profile configuration\n",
    "aws_profile: schueler-vz\n",
    "aws_region: eu-central-1\n",
    "\n",
    "#aws vpc and ec2 shit\n",
    "efs_filesystem_id: fs-2226b27a\n",
    "subnet_Id: subnet-17f97a7d\n",
    "ec2_key_name: efsync-asd913fjgq3\n"
   ]
  },
  {
   "cell_type": "markdown",
   "metadata": {
    "colab_type": "text",
    "id": "07GI4BXfsOAg"
   },
   "source": [
    "# Create `requirements.txt` "
   ]
  },
  {
   "cell_type": "code",
   "execution_count": 10,
   "metadata": {
    "colab": {
     "base_uri": "https://localhost:8080/",
     "height": 35
    },
    "colab_type": "code",
    "id": "-B2gq7OpsSGt",
    "outputId": "6a97028d-1646-4fd5-8c92-0a857fed17ca"
   },
   "outputs": [
    {
     "name": "stdout",
     "output_type": "stream",
     "text": [
      "Overwriting ./requirements.txt\n"
     ]
    }
   ],
   "source": [
    "%%writefile ./requirements.txt\n",
    "\n",
    "https://download.pytorch.org/whl/cpu/torch-1.5.0%2Bcpu-cp38-cp38-linux_x86_64.whl\n",
    "transformers==3.0.2"
   ]
  },
  {
   "cell_type": "code",
   "execution_count": 14,
   "metadata": {},
   "outputs": [
    {
     "name": "stdout",
     "output_type": "stream",
     "text": [
      "Overwriting ./requirements.txt\n"
     ]
    }
   ],
   "source": [
    "%%writefile ./requirements.txt\n",
    "\n",
    "pyjokes\n",
    "pandas\n",
    "numpy\n",
    "requests"
   ]
  },
  {
   "cell_type": "code",
   "execution_count": 15,
   "metadata": {
    "colab": {
     "base_uri": "https://localhost:8080/",
     "height": 35
    },
    "colab_type": "code",
    "id": "Yzm_mYN0t28q",
    "outputId": "762502c1-5cdd-48aa-820d-d83a29b9e60a"
   },
   "outputs": [
    {
     "name": "stdout",
     "output_type": "stream",
     "text": [
      "efsync.yaml              efsync_cli_example.ipynb requirements.txt\r\n"
     ]
    }
   ],
   "source": [
    "!ls"
   ]
  },
  {
   "cell_type": "code",
   "execution_count": 17,
   "metadata": {
    "colab": {
     "base_uri": "https://localhost:8080/",
     "height": 651
    },
    "colab_type": "code",
    "id": "txcoqURWZ4Pf",
    "outputId": "6d7cf44d-6660-4d3d-e5a4-f4327511420f"
   },
   "outputs": [
    {
     "name": "stdout",
     "output_type": "stream",
     "text": [
      "2020-09-13 16:27:22,298 - efsync - starting....\n",
      "2020-09-13 16:27:22,299 - efsync - loading config from ./efsync.yaml\n",
      "2020-09-13 16:27:22,299 - efsync - loading yaml configuration\n",
      "2020-09-13 16:27:22,303 - efsync - create boto3 session\n",
      "2020-09-13 16:27:22,318 - efsync - loaded config\n",
      "2020-09-13 16:27:22,318 - efsync - create .efsync directory\n",
      "2020-09-13 16:27:22,319 - efsync - created directory\n",
      "2020-09-13 16:27:22,320 - efsync - creating security group\n",
      "2020-09-13 16:27:22,892 - efsync - created security group sg-09d903d69134c6558\n",
      "2020-09-13 16:27:22,893 - efsync - creating ssh key for scp and ssh in .efsync\n",
      "2020-09-13 16:27:23,101 - efsync - created ssh key for scp and ssh in .efsync directory\n",
      "2020-09-13 16:27:23,102 - efsync - starting ec2 instance with security group sg-09d903d69134c6558 and subnet_Id subnet-17f97a7d\n",
      "2020-09-13 16:28:19,871 - efsync - started ec2 instance\n",
      "2020-09-13 16:28:19,872 - efsync - mount efs file system with instance i-0be4c4549336d5e51\n",
      "2020-09-13 16:28:19,872 - efsync - sleeping 30 seconds.... wait ec2 is up completely\n",
      "2020-09-13 16:28:21,937 - efsync - Loaded plugins: extras_suggestions, langpacks, priorities, update-motd\n",
      "Resolving Dependencies\n",
      "--> Running transaction check\n",
      "---> Package amazon-efs-utils.noarch 0:1.27.1-1.amzn2 will be installed\n",
      "--> Processing Dependency: stunnel >= 4.56 for package: amazon-efs-utils-1.27.1-1.amzn2.noarch\n",
      "--> Running transaction check\n",
      "---> Package stunnel.x86_64 0:4.56-6.amzn2.0.3 will be installed\n",
      "--> Finished Dependency Resolution\n",
      "\n",
      "Dependencies Resolved\n",
      "\n",
      "================================================================================\n",
      " Package               Arch        Version                Repository       Size\n",
      "================================================================================\n",
      "Installing:\n",
      " amazon-efs-utils      noarch      1.27.1-1.amzn2         amzn2-core       33 k\n",
      "Installing for dependencies:\n",
      " stunnel               x86_64      4.56-6.amzn2.0.3       amzn2-core      149 k\n",
      "\n",
      "Transaction Summary\n",
      "================================================================================\n",
      "Install  1 Package (+1 Dependent package)\n",
      "\n",
      "Total download size: 182 k\n",
      "Installed size: 421 k\n",
      "Downloading packages:\n",
      "--------------------------------------------------------------------------------\n",
      "Total                                              1.6 MB/s | 182 kB  00:00     \n",
      "Running transaction check\n",
      "Running transaction test\n",
      "Transaction test succeeded\n",
      "Running transaction\n",
      "  Installing : stunnel-4.56-6.amzn2.0.3.x86_64                              1/2 \n",
      "  Installing : amazon-efs-utils-1.27.1-1.amzn2.noarch                       2/2 \n",
      "  Verifying  : stunnel-4.56-6.amzn2.0.3.x86_64                              1/2 \n",
      "  Verifying  : amazon-efs-utils-1.27.1-1.amzn2.noarch                       2/2 \n",
      "\n",
      "Installed:\n",
      "  amazon-efs-utils.noarch 0:1.27.1-1.amzn2                                      \n",
      "\n",
      "Dependency Installed:\n",
      "  stunnel.x86_64 0:4.56-6.amzn2.0.3                                             \n",
      "\n",
      "Complete!\n",
      "\n",
      "2020-09-13 16:28:22,193 - efsync - \n",
      "2020-09-13 16:28:22,244 - efsync - Adjust permission of mounted efs/\n",
      "2020-09-13 16:28:22,333 - efsync - \n",
      "2020-09-13 16:28:22,498 - efsync - Filesystem      Size  Used Avail Use% Mounted on\n",
      "\n",
      "2020-09-13 16:28:22,674 - efsync - \n",
      "2020-09-13 16:28:22,680 - efsync - mounted efs\n",
      "2020-09-13 16:28:22,680 - efsync - installing pip packages to lib on ec2/home/efs\n",
      "2020-09-13 16:29:24,161 - efsync - Loaded plugins: extras_suggestions, langpacks, priorities, update-motd\n",
      "Resolving Dependencies\n",
      "--> Running transaction check\n",
      "---> Package amazon-linux-extras.noarch 0:1.6.11-1.amzn2 will be updated\n",
      "---> Package amazon-linux-extras.noarch 0:1.6.12-1.amzn2 will be an update\n",
      "---> Package amazon-linux-extras-yum-plugin.noarch 0:1.6.11-1.amzn2 will be updated\n",
      "---> Package amazon-linux-extras-yum-plugin.noarch 0:1.6.12-1.amzn2 will be an update\n",
      "---> Package amazon-ssm-agent.x86_64 0:2.3.714.0-1.amzn2 will be updated\n",
      "---> Package amazon-ssm-agent.x86_64 0:2.3.1319.0-1.amzn2 will be an update\n",
      "---> Package awscli.noarch 0:1.16.300-1.amzn2.0.2 will be updated\n",
      "---> Package awscli.noarch 0:1.18.107-1.amzn2.0.1 will be an update\n",
      "---> Package bind-export-libs.x86_64 32:9.11.4-9.P2.amzn2.0.3 will be updated\n",
      "---> Package bind-export-libs.x86_64 32:9.11.4-9.P2.amzn2.0.4 will be an update\n",
      "---> Package bind-libs.x86_64 32:9.11.4-9.P2.amzn2.0.3 will be updated\n",
      "---> Package bind-libs.x86_64 32:9.11.4-9.P2.amzn2.0.4 will be an update\n",
      "---> Package bind-libs-lite.x86_64 32:9.11.4-9.P2.amzn2.0.3 will be updated\n",
      "---> Package bind-libs-lite.x86_64 32:9.11.4-9.P2.amzn2.0.4 will be an update\n",
      "---> Package bind-license.noarch 32:9.11.4-9.P2.amzn2.0.3 will be updated\n",
      "---> Package bind-license.noarch 32:9.11.4-9.P2.amzn2.0.4 will be an update\n",
      "---> Package bind-utils.x86_64 32:9.11.4-9.P2.amzn2.0.3 will be updated\n",
      "---> Package bind-utils.x86_64 32:9.11.4-9.P2.amzn2.0.4 will be an update\n",
      "---> Package ca-certificates.noarch 0:2019.2.32-76.amzn2.0.2 will be updated\n",
      "---> Package ca-certificates.noarch 0:2019.2.32-76.amzn2.0.3 will be an update\n",
      "---> Package curl.x86_64 0:7.61.1-12.amzn2.0.1 will be updated\n",
      "---> Package curl.x86_64 0:7.61.1-12.amzn2.0.2 will be an update\n",
      "---> Package ec2-net-utils.noarch 0:1.3-1.amzn2 will be updated\n",
      "---> Package ec2-net-utils.noarch 0:1.4-2.amzn2 will be an update\n",
      "---> Package file.x86_64 0:5.11-35.amzn2.0.2 will be updated\n",
      "---> Package file.x86_64 0:5.11-36.amzn2.0.1 will be an update\n",
      "---> Package file-libs.x86_64 0:5.11-35.amzn2.0.2 will be updated\n",
      "---> Package file-libs.x86_64 0:5.11-36.amzn2.0.1 will be an update\n",
      "---> Package gettext.x86_64 0:0.19.8.1-2.amzn2.0.2 will be updated\n",
      "---> Package gettext.x86_64 0:0.19.8.1-3.amzn2 will be an update\n",
      "---> Package gettext-libs.x86_64 0:0.19.8.1-2.amzn2.0.2 will be updated\n",
      "---> Package gettext-libs.x86_64 0:0.19.8.1-3.amzn2 will be an update\n",
      "---> Package glibc.x86_64 0:2.26-34.amzn2 will be updated\n",
      "---> Package glibc.x86_64 0:2.26-35.amzn2 will be an update\n",
      "---> Package glibc-all-langpacks.x86_64 0:2.26-34.amzn2 will be updated\n",
      "---> Package glibc-all-langpacks.x86_64 0:2.26-35.amzn2 will be an update\n",
      "---> Package glibc-common.x86_64 0:2.26-34.amzn2 will be updated\n",
      "---> Package glibc-common.x86_64 0:2.26-35.amzn2 will be an update\n",
      "---> Package glibc-locale-source.x86_64 0:2.26-34.amzn2 will be updated\n",
      "---> Package glibc-locale-source.x86_64 0:2.26-35.amzn2 will be an update\n",
      "---> Package glibc-minimal-langpack.x86_64 0:2.26-34.amzn2 will be updated\n",
      "---> Package glibc-minimal-langpack.x86_64 0:2.26-35.amzn2 will be an update\n",
      "---> Package json-c.x86_64 0:0.11-4.amzn2.0.3 will be updated\n",
      "---> Package json-c.x86_64 0:0.11-4.amzn2.0.4 will be an update\n",
      "---> Package kernel.x86_64 0:4.14.193-149.317.amzn2 will be installed\n",
      "---> Package kpatch-runtime.noarch 0:0.8.0-2.amzn2 will be updated\n",
      "---> Package kpatch-runtime.noarch 0:0.8.0-4.amzn2 will be an update\n",
      "---> Package libcrypt.x86_64 0:2.26-34.amzn2 will be updated\n",
      "---> Package libcrypt.x86_64 0:2.26-35.amzn2 will be an update\n",
      "---> Package libcurl.x86_64 0:7.61.1-12.amzn2.0.1 will be updated\n",
      "---> Package libcurl.x86_64 0:7.61.1-12.amzn2.0.2 will be an update\n",
      "---> Package libgcc.x86_64 0:7.3.1-6.amzn2.0.4 will be updated\n",
      "---> Package libgcc.x86_64 0:7.3.1-9.amzn2 will be an update\n",
      "---> Package libgomp.x86_64 0:7.3.1-6.amzn2.0.4 will be updated\n",
      "---> Package libgomp.x86_64 0:7.3.1-9.amzn2 will be an update\n",
      "---> Package libstdc++.x86_64 0:7.3.1-6.amzn2.0.4 will be updated\n",
      "---> Package libstdc++.x86_64 0:7.3.1-9.amzn2 will be an update\n",
      "---> Package microcode_ctl.x86_64 2:2.1-47.amzn2.0.6 will be updated\n",
      "---> Package microcode_ctl.x86_64 2:2.1-47.amzn2.0.7 will be an update\n",
      "---> Package p11-kit.x86_64 0:0.23.5-3.amzn2.0.2 will be updated\n",
      "---> Package p11-kit.x86_64 0:0.23.19-1.amzn2 will be an update\n",
      "---> Package p11-kit-trust.x86_64 0:0.23.5-3.amzn2.0.2 will be updated\n",
      "---> Package p11-kit-trust.x86_64 0:0.23.19-1.amzn2 will be an update\n",
      "---> Package python.x86_64 0:2.7.18-1.amzn2 will be updated\n",
      "---> Package python.x86_64 0:2.7.18-1.amzn2.0.2 will be an update\n",
      "---> Package python-devel.x86_64 0:2.7.18-1.amzn2 will be updated\n",
      "---> Package python-devel.x86_64 0:2.7.18-1.amzn2.0.2 will be an update\n",
      "---> Package python-libs.x86_64 0:2.7.18-1.amzn2 will be updated\n",
      "---> Package python-libs.x86_64 0:2.7.18-1.amzn2.0.2 will be an update\n",
      "---> Package python-urllib3.noarch 0:1.24.3-1.amzn2.0.1 will be updated\n",
      "---> Package python-urllib3.noarch 0:1.25.7-1.amzn2.0.1 will be an update\n",
      "---> Package python2-botocore.noarch 0:1.13.36-2.amzn2.0.1 will be updated\n",
      "---> Package python2-botocore.noarch 0:1.17.31-1.amzn2.0.1 will be an update\n",
      "---> Package python2-rsa.noarch 0:3.4.1-1.amzn2 will be updated\n",
      "---> Package python2-rsa.noarch 0:3.4.1-1.amzn2.0.1 will be an update\n",
      "---> Package rsyslog.x86_64 0:8.24.0-41.amzn2.2.1 will be updated\n",
      "---> Package rsyslog.x86_64 0:8.24.0-52.amzn2 will be an update\n",
      "---> Package selinux-policy.noarch 0:3.13.1-192.amzn2.6.2 will be updated\n",
      "---> Package selinux-policy.noarch 0:3.13.1-192.amzn2.6.3 will be an update\n",
      "---> Package selinux-policy-targeted.noarch 0:3.13.1-192.amzn2.6.2 will be updated\n",
      "---> Package selinux-policy-targeted.noarch 0:3.13.1-192.amzn2.6.3 will be an update\n",
      "---> Package strace.x86_64 0:4.22-1.amzn2.0.2 will be updated\n",
      "---> Package strace.x86_64 0:4.26-1.amzn2.0.1 will be an update\n",
      "---> Package system-release.x86_64 1:2-11.amzn2 will be updated\n",
      "---> Package system-release.x86_64 1:2-12.amzn2 will be an update\n",
      "---> Package tzdata.noarch 0:2019c-1.amzn2 will be updated\n",
      "---> Package tzdata.noarch 0:2020a-1.amzn2 will be an update\n",
      "--> Finished Dependency Resolution\n",
      "\n",
      "Dependencies Resolved\n",
      "\n",
      "================================================================================\n",
      " Package                       Arch   Version                  Repository  Size\n",
      "================================================================================\n",
      "Installing:\n",
      " kernel                        x86_64 4.14.193-149.317.amzn2   amzn2-core  21 M\n",
      "Updating:\n",
      " amazon-linux-extras           noarch 1.6.12-1.amzn2           amzn2-core  36 k\n",
      " amazon-linux-extras-yum-plugin\n",
      "                               noarch 1.6.12-1.amzn2           amzn2-core  10 k\n",
      " amazon-ssm-agent              x86_64 2.3.1319.0-1.amzn2       amzn2-core  21 M\n",
      " awscli                        noarch 1.18.107-1.amzn2.0.1     amzn2-core 2.0 M\n",
      " bind-export-libs              x86_64 32:9.11.4-9.P2.amzn2.0.4 amzn2-core 1.1 M\n",
      " bind-libs                     x86_64 32:9.11.4-9.P2.amzn2.0.4 amzn2-core 155 k\n",
      " bind-libs-lite                x86_64 32:9.11.4-9.P2.amzn2.0.4 amzn2-core 1.1 M\n",
      " bind-license                  noarch 32:9.11.4-9.P2.amzn2.0.4 amzn2-core  89 k\n",
      " bind-utils                    x86_64 32:9.11.4-9.P2.amzn2.0.4 amzn2-core 257 k\n",
      " ca-certificates               noarch 2019.2.32-76.amzn2.0.3   amzn2-core 391 k\n",
      " curl                          x86_64 7.61.1-12.amzn2.0.2      amzn2-core 342 k\n",
      " ec2-net-utils                 noarch 1.4-2.amzn2              amzn2-core  16 k\n",
      " file                          x86_64 5.11-36.amzn2.0.1        amzn2-core  57 k\n",
      " file-libs                     x86_64 5.11-36.amzn2.0.1        amzn2-core 339 k\n",
      " gettext                       x86_64 0.19.8.1-3.amzn2         amzn2-core 1.0 M\n",
      " gettext-libs                  x86_64 0.19.8.1-3.amzn2         amzn2-core 500 k\n",
      " glibc                         x86_64 2.26-35.amzn2            amzn2-core 3.3 M\n",
      " glibc-all-langpacks           x86_64 2.26-35.amzn2            amzn2-core 7.0 M\n",
      " glibc-common                  x86_64 2.26-35.amzn2            amzn2-core 768 k\n",
      " glibc-locale-source           x86_64 2.26-35.amzn2            amzn2-core 3.2 M\n",
      " glibc-minimal-langpack        x86_64 2.26-35.amzn2            amzn2-core  27 k\n",
      " json-c                        x86_64 0.11-4.amzn2.0.4         amzn2-core  30 k\n",
      " kpatch-runtime                noarch 0.8.0-4.amzn2            amzn2-core  26 k\n",
      " libcrypt                      x86_64 2.26-35.amzn2            amzn2-core  47 k\n",
      " libcurl                       x86_64 7.61.1-12.amzn2.0.2      amzn2-core 286 k\n",
      " libgcc                        x86_64 7.3.1-9.amzn2            amzn2-core  97 k\n",
      " libgomp                       x86_64 7.3.1-9.amzn2            amzn2-core 203 k\n",
      " libstdc++                     x86_64 7.3.1-9.amzn2            amzn2-core 444 k\n",
      " microcode_ctl                 x86_64 2:2.1-47.amzn2.0.7       amzn2-core 288 k\n",
      " p11-kit                       x86_64 0.23.19-1.amzn2          amzn2-core 268 k\n",
      " p11-kit-trust                 x86_64 0.23.19-1.amzn2          amzn2-core 131 k\n",
      " python                        x86_64 2.7.18-1.amzn2.0.2       amzn2-core  93 k\n",
      " python-devel                  x86_64 2.7.18-1.amzn2.0.2       amzn2-core 403 k\n",
      " python-libs                   x86_64 2.7.18-1.amzn2.0.2       amzn2-core 7.5 M\n",
      " python-urllib3                noarch 1.25.7-1.amzn2.0.1       amzn2-core 189 k\n",
      " python2-botocore              noarch 1.17.31-1.amzn2.0.1      amzn2-core 4.3 M\n",
      " python2-rsa                   noarch 3.4.1-1.amzn2.0.1        amzn2-core  68 k\n",
      " rsyslog                       x86_64 8.24.0-52.amzn2          amzn2-core 617 k\n",
      " selinux-policy                noarch 3.13.1-192.amzn2.6.3     amzn2-core 456 k\n",
      " selinux-policy-targeted       noarch 3.13.1-192.amzn2.6.3     amzn2-core 6.6 M\n",
      " strace                        x86_64 4.26-1.amzn2.0.1         amzn2-core 921 k\n",
      " system-release                x86_64 1:2-12.amzn2             amzn2-core  17 k\n",
      " tzdata                        noarch 2020a-1.amzn2            amzn2-core 479 k\n",
      "\n",
      "Transaction Summary\n",
      "================================================================================\n",
      "Install   1 Package\n",
      "Upgrade  43 Packages\n",
      "\n",
      "Total download size: 87 M\n",
      "Downloading packages:\n",
      "Delta RPMs disabled because /usr/bin/applydeltarpm not installed.\n",
      "--------------------------------------------------------------------------------\n",
      "Total                                               82 MB/s |  87 MB  00:01     \n",
      "Running transaction check\n",
      "Running transaction test\n",
      "Transaction test succeeded\n",
      "Running transaction\n",
      "  Updating   : 32:bind-license-9.11.4-9.P2.amzn2.0.4.noarch                1/87 \n",
      "  Updating   : 1:system-release-2-12.amzn2.x86_64                          2/87 \n",
      "  Updating   : selinux-policy-3.13.1-192.amzn2.6.3.noarch                  3/87 \n",
      "  Updating   : tzdata-2020a-1.amzn2.noarch                                 4/87 \n",
      "  Updating   : glibc-minimal-langpack-2.26-35.amzn2.x86_64                 5/87 \n",
      "  Updating   : glibc-common-2.26-35.amzn2.x86_64                           6/87 \n",
      "  Updating   : glibc-2.26-35.amzn2.x86_64                                  7/87 \n",
      "  Updating   : libgcc-7.3.1-9.amzn2.x86_64                                 8/87 \n",
      "  Updating   : p11-kit-0.23.19-1.amzn2.x86_64                              9/87 \n",
      "  Updating   : 32:bind-libs-lite-9.11.4-9.P2.amzn2.0.4.x86_64             10/87 \n",
      "  Updating   : libgomp-7.3.1-9.amzn2.x86_64                               11/87 \n",
      "  Updating   : 32:bind-libs-9.11.4-9.P2.amzn2.0.4.x86_64                  12/87 \n",
      "  Updating   : p11-kit-trust-0.23.19-1.amzn2.x86_64                       13/87 \n",
      "  Updating   : ca-certificates-2019.2.32-76.amzn2.0.3.noarch              14/87 \n",
      "  Updating   : libstdc++-7.3.1-9.amzn2.x86_64                             15/87 \n",
      "  Updating   : gettext-libs-0.19.8.1-3.amzn2.x86_64                       16/87 \n",
      "  Updating   : file-libs-5.11-36.amzn2.0.1.x86_64                         17/87 \n",
      "  Updating   : libcurl-7.61.1-12.amzn2.0.2.x86_64                         18/87 \n",
      "  Updating   : curl-7.61.1-12.amzn2.0.2.x86_64                            19/87 \n",
      "  Updating   : 2:microcode_ctl-2.1-47.amzn2.0.7.x86_64                    20/87 \n",
      "  Updating   : libcrypt-2.26-35.amzn2.x86_64                              21/87 \n",
      "  Updating   : python-libs-2.7.18-1.amzn2.0.2.x86_64                      22/87 \n",
      "  Updating   : python-2.7.18-1.amzn2.0.2.x86_64                           23/87 \n",
      "  Updating   : python2-rsa-3.4.1-1.amzn2.0.1.noarch                       24/87 \n",
      "  Updating   : amazon-linux-extras-1.6.12-1.amzn2.noarch                  25/87 \n",
      "  Updating   : python-urllib3-1.25.7-1.amzn2.0.1.noarch                   26/87 \n",
      "  Updating   : python2-botocore-1.17.31-1.amzn2.0.1.noarch                27/87 \n",
      "  Updating   : awscli-1.18.107-1.amzn2.0.1.noarch                         28/87 \n",
      "  Updating   : amazon-linux-extras-yum-plugin-1.6.12-1.amzn2.noarch       29/87 \n",
      "  Updating   : python-devel-2.7.18-1.amzn2.0.2.x86_64                     30/87 \n",
      "  Updating   : gettext-0.19.8.1-3.amzn2.x86_64                            31/87 \n",
      "  Installing : kernel-4.14.193-149.317.amzn2.x86_64                       32/87 \n",
      "  Updating   : ec2-net-utils-1.4-2.amzn2.noarch                           33/87 \n",
      "  Updating   : file-5.11-36.amzn2.0.1.x86_64                              34/87 \n",
      "  Updating   : 32:bind-utils-9.11.4-9.P2.amzn2.0.4.x86_64                 35/87 \n",
      "  Updating   : rsyslog-8.24.0-52.amzn2.x86_64                             36/87 \n",
      "  Updating   : glibc-locale-source-2.26-35.amzn2.x86_64                   37/87 \n",
      "  Updating   : glibc-all-langpacks-2.26-35.amzn2.x86_64                   38/87 \n",
      "  Updating   : 32:bind-export-libs-9.11.4-9.P2.amzn2.0.4.x86_64           39/87 \n",
      "  Updating   : strace-4.26-1.amzn2.0.1.x86_64                             40/87 \n",
      "  Updating   : json-c-0.11-4.amzn2.0.4.x86_64                             41/87 \n",
      "  Updating   : amazon-ssm-agent-2.3.1319.0-1.amzn2.x86_64                 42/87 \n",
      "  Updating   : selinux-policy-targeted-3.13.1-192.amzn2.6.3.noarch        43/87 \n",
      "  Updating   : kpatch-runtime-0.8.0-4.amzn2.noarch                        44/87 \n",
      "  Cleanup    : awscli-1.16.300-1.amzn2.0.2.noarch                         45/87 \n",
      "  Cleanup    : python-devel-2.7.18-1.amzn2.x86_64                         46/87 \n",
      "  Cleanup    : python2-botocore-1.13.36-2.amzn2.0.1.noarch                47/87 \n",
      "  Cleanup    : python-urllib3-1.24.3-1.amzn2.0.1.noarch                   48/87 \n",
      "  Cleanup    : ca-certificates-2019.2.32-76.amzn2.0.2.noarch              49/87 \n",
      "  Cleanup    : glibc-all-langpacks-2.26-34.amzn2.x86_64                   50/87 \n",
      "  Cleanup    : glibc-locale-source-2.26-34.amzn2.x86_64                   51/87 \n",
      "  Cleanup    : python2-rsa-3.4.1-1.amzn2.noarch                           52/87 \n",
      "  Cleanup    : ec2-net-utils-1.3-1.amzn2.noarch                           53/87 \n",
      "  Cleanup    : amazon-linux-extras-yum-plugin-1.6.11-1.amzn2.noarch       54/87 \n",
      "  Cleanup    : amazon-linux-extras-1.6.11-1.amzn2.noarch                  55/87 \n",
      "  Cleanup    : selinux-policy-targeted-3.13.1-192.amzn2.6.2.noarch        56/87 \n",
      "  Cleanup    : selinux-policy-3.13.1-192.amzn2.6.2.noarch                 57/87 \n",
      "  Cleanup    : 1:system-release-2-11.amzn2.x86_64                         58/87 \n",
      "  Cleanup    : kpatch-runtime-0.8.0-2.amzn2.noarch                        59/87 \n",
      "  Cleanup    : gettext-0.19.8.1-2.amzn2.0.2.x86_64                        60/87 \n",
      "  Cleanup    : 32:bind-utils-9.11.4-9.P2.amzn2.0.3.x86_64                 61/87 \n",
      "  Cleanup    : 32:bind-libs-9.11.4-9.P2.amzn2.0.3.x86_64                  62/87 \n",
      "  Cleanup    : gettext-libs-0.19.8.1-2.amzn2.0.2.x86_64                   63/87 \n",
      "  Cleanup    : python-2.7.18-1.amzn2.x86_64                               64/87 \n",
      "  Cleanup    : p11-kit-trust-0.23.5-3.amzn2.0.2.x86_64                    65/87 \n",
      "  Cleanup    : file-5.11-35.amzn2.0.2.x86_64                              66/87 \n",
      "  Cleanup    : python-libs-2.7.18-1.amzn2.x86_64                          67/87 \n",
      "  Cleanup    : libstdc++-7.3.1-6.amzn2.0.4.x86_64                         68/87 \n",
      "  Cleanup    : 32:bind-libs-lite-9.11.4-9.P2.amzn2.0.3.x86_64             69/87 \n",
      "  Cleanup    : curl-7.61.1-12.amzn2.0.1.x86_64                            70/87 \n",
      "  Cleanup    : rsyslog-8.24.0-41.amzn2.2.1.x86_64                         71/87 \n",
      "  Cleanup    : libgcc-7.3.1-6.amzn2.0.4.x86_64                            72/87 \n",
      "  Cleanup    : libcurl-7.61.1-12.amzn2.0.1.x86_64                         73/87 \n",
      "  Cleanup    : libcrypt-2.26-34.amzn2.x86_64                              74/87 \n",
      "  Cleanup    : file-libs-5.11-35.amzn2.0.2.x86_64                         75/87 \n",
      "  Cleanup    : p11-kit-0.23.5-3.amzn2.0.2.x86_64                          76/87 \n",
      "  Cleanup    : libgomp-7.3.1-6.amzn2.0.4.x86_64                           77/87 \n",
      "  Cleanup    : amazon-ssm-agent-2.3.714.0-1.amzn2.x86_64                  78/87 \n",
      "  Cleanup    : json-c-0.11-4.amzn2.0.3.x86_64                             79/87 \n",
      "  Cleanup    : 2:microcode_ctl-2.1-47.amzn2.0.6.x86_64                    80/87 \n",
      "  Cleanup    : strace-4.22-1.amzn2.0.2.x86_64                             81/87 \n",
      "  Cleanup    : 32:bind-export-libs-9.11.4-9.P2.amzn2.0.3.x86_64           82/87 \n",
      "  Cleanup    : 32:bind-license-9.11.4-9.P2.amzn2.0.3.noarch               83/87 \n",
      "  Cleanup    : glibc-minimal-langpack-2.26-34.amzn2.x86_64                84/87 \n",
      "  Cleanup    : glibc-2.26-34.amzn2.x86_64                                 85/87 \n",
      "  Cleanup    : glibc-common-2.26-34.amzn2.x86_64                          86/87 \n",
      "  Cleanup    : tzdata-2019c-1.amzn2.noarch                                87/87 \n",
      "/sbin/dracut: line 655: warning: setlocale: LC_MESSAGES: cannot change locale (en_US.UTF-8): No such file or directory\n",
      "/sbin/dracut: line 656: warning: setlocale: LC_CTYPE: cannot change locale (en_US.UTF-8): No such file or directory\n",
      "/sbin/dracut: line 655: warning: setlocale: LC_MESSAGES: cannot change locale (en_US.UTF-8): No such file or directory\n",
      "/sbin/dracut: line 656: warning: setlocale: LC_CTYPE: cannot change locale (en_US.UTF-8): No such file or directory\n",
      "  Verifying  : glibc-locale-source-2.26-35.amzn2.x86_64                    1/87 \n",
      "  Verifying  : selinux-policy-targeted-3.13.1-192.amzn2.6.3.noarch         2/87 \n",
      "  Verifying  : file-libs-5.11-36.amzn2.0.1.x86_64                          3/87 \n",
      "  Verifying  : python-libs-2.7.18-1.amzn2.0.2.x86_64                       4/87 \n",
      "  Verifying  : kpatch-runtime-0.8.0-4.amzn2.noarch                         5/87 \n",
      "  Verifying  : 1:system-release-2-12.amzn2.x86_64                          6/87 \n",
      "  Verifying  : 32:bind-libs-9.11.4-9.P2.amzn2.0.4.x86_64                   7/87 \n",
      "  Verifying  : selinux-policy-3.13.1-192.amzn2.6.3.noarch                  8/87 \n",
      "  Verifying  : glibc-2.26-35.amzn2.x86_64                                  9/87 \n",
      "  Verifying  : python-devel-2.7.18-1.amzn2.0.2.x86_64                     10/87 \n",
      "  Verifying  : libstdc++-7.3.1-9.amzn2.x86_64                             11/87 \n",
      "  Verifying  : glibc-all-langpacks-2.26-35.amzn2.x86_64                   12/87 \n",
      "  Verifying  : 32:bind-utils-9.11.4-9.P2.amzn2.0.4.x86_64                 13/87 \n",
      "  Verifying  : kernel-4.14.193-149.317.amzn2.x86_64                       14/87 \n",
      "  Verifying  : 32:bind-export-libs-9.11.4-9.P2.amzn2.0.4.x86_64           15/87 \n",
      "  Verifying  : tzdata-2020a-1.amzn2.noarch                                16/87 \n",
      "  Verifying  : strace-4.26-1.amzn2.0.1.x86_64                             17/87 \n",
      "  Verifying  : p11-kit-trust-0.23.19-1.amzn2.x86_64                       18/87 \n",
      "  Verifying  : p11-kit-0.23.19-1.amzn2.x86_64                             19/87 \n",
      "  Verifying  : 32:bind-libs-lite-9.11.4-9.P2.amzn2.0.4.x86_64             20/87 \n",
      "  Verifying  : python2-rsa-3.4.1-1.amzn2.0.1.noarch                       21/87 \n",
      "  Verifying  : libcurl-7.61.1-12.amzn2.0.2.x86_64                         22/87 \n",
      "  Verifying  : glibc-minimal-langpack-2.26-35.amzn2.x86_64                23/87 \n",
      "  Verifying  : gettext-0.19.8.1-3.amzn2.x86_64                            24/87 \n",
      "  Verifying  : 2:microcode_ctl-2.1-47.amzn2.0.7.x86_64                    25/87 \n",
      "  Verifying  : gettext-libs-0.19.8.1-3.amzn2.x86_64                       26/87 \n",
      "  Verifying  : file-5.11-36.amzn2.0.1.x86_64                              27/87 \n",
      "  Verifying  : libcrypt-2.26-35.amzn2.x86_64                              28/87 \n",
      "  Verifying  : 32:bind-license-9.11.4-9.P2.amzn2.0.4.noarch               29/87 \n",
      "  Verifying  : json-c-0.11-4.amzn2.0.4.x86_64                             30/87 \n",
      "  Verifying  : amazon-linux-extras-yum-plugin-1.6.12-1.amzn2.noarch       31/87 \n",
      "  Verifying  : libgcc-7.3.1-9.amzn2.x86_64                                32/87 \n",
      "  Verifying  : libgomp-7.3.1-9.amzn2.x86_64                               33/87 \n",
      "  Verifying  : amazon-linux-extras-1.6.12-1.amzn2.noarch                  34/87 \n",
      "  Verifying  : ec2-net-utils-1.4-2.amzn2.noarch                           35/87 \n",
      "  Verifying  : awscli-1.18.107-1.amzn2.0.1.noarch                         36/87 \n",
      "  Verifying  : python-urllib3-1.25.7-1.amzn2.0.1.noarch                   37/87 \n",
      "  Verifying  : amazon-ssm-agent-2.3.1319.0-1.amzn2.x86_64                 38/87 \n",
      "  Verifying  : rsyslog-8.24.0-52.amzn2.x86_64                             39/87 \n",
      "  Verifying  : python-2.7.18-1.amzn2.0.2.x86_64                           40/87 \n",
      "  Verifying  : curl-7.61.1-12.amzn2.0.2.x86_64                            41/87 \n",
      "  Verifying  : ca-certificates-2019.2.32-76.amzn2.0.3.noarch              42/87 \n",
      "  Verifying  : glibc-common-2.26-35.amzn2.x86_64                          43/87 \n",
      "  Verifying  : python2-botocore-1.17.31-1.amzn2.0.1.noarch                44/87 \n",
      "  Verifying  : file-libs-5.11-35.amzn2.0.2.x86_64                         45/87 \n",
      "  Verifying  : libgomp-7.3.1-6.amzn2.0.4.x86_64                           46/87 \n",
      "  Verifying  : 32:bind-libs-9.11.4-9.P2.amzn2.0.3.x86_64                  47/87 \n",
      "  Verifying  : glibc-2.26-34.amzn2.x86_64                                 48/87 \n",
      "  Verifying  : 32:bind-export-libs-9.11.4-9.P2.amzn2.0.3.x86_64           49/87 \n",
      "  Verifying  : libcrypt-2.26-34.amzn2.x86_64                              50/87 \n",
      "  Verifying  : python2-botocore-1.13.36-2.amzn2.0.1.noarch                51/87 \n",
      "  Verifying  : kpatch-runtime-0.8.0-2.amzn2.noarch                        52/87 \n",
      "  Verifying  : selinux-policy-targeted-3.13.1-192.amzn2.6.2.noarch        53/87 \n",
      "  Verifying  : python2-rsa-3.4.1-1.amzn2.noarch                           54/87 \n",
      "  Verifying  : ec2-net-utils-1.3-1.amzn2.noarch                           55/87 \n",
      "  Verifying  : libstdc++-7.3.1-6.amzn2.0.4.x86_64                         56/87 \n",
      "  Verifying  : selinux-policy-3.13.1-192.amzn2.6.2.noarch                 57/87 \n",
      "  Verifying  : amazon-linux-extras-yum-plugin-1.6.11-1.amzn2.noarch       58/87 \n",
      "  Verifying  : glibc-common-2.26-34.amzn2.x86_64                          59/87 \n",
      "  Verifying  : python-libs-2.7.18-1.amzn2.x86_64                          60/87 \n",
      "  Verifying  : awscli-1.16.300-1.amzn2.0.2.noarch                         61/87 \n",
      "  Verifying  : 2:microcode_ctl-2.1-47.amzn2.0.6.x86_64                    62/87 \n",
      "  Verifying  : 1:system-release-2-11.amzn2.x86_64                         63/87 \n",
      "  Verifying  : 32:bind-libs-lite-9.11.4-9.P2.amzn2.0.3.x86_64             64/87 \n",
      "  Verifying  : glibc-minimal-langpack-2.26-34.amzn2.x86_64                65/87 \n",
      "  Verifying  : json-c-0.11-4.amzn2.0.3.x86_64                             66/87 \n",
      "  Verifying  : curl-7.61.1-12.amzn2.0.1.x86_64                            67/87 \n",
      "  Verifying  : 32:bind-license-9.11.4-9.P2.amzn2.0.3.noarch               68/87 \n",
      "  Verifying  : glibc-all-langpacks-2.26-34.amzn2.x86_64                   69/87 \n",
      "  Verifying  : p11-kit-0.23.5-3.amzn2.0.2.x86_64                          70/87 \n",
      "  Verifying  : python-devel-2.7.18-1.amzn2.x86_64                         71/87 \n",
      "  Verifying  : file-5.11-35.amzn2.0.2.x86_64                              72/87 \n",
      "  Verifying  : 32:bind-utils-9.11.4-9.P2.amzn2.0.3.x86_64                 73/87 \n",
      "  Verifying  : libgcc-7.3.1-6.amzn2.0.4.x86_64                            74/87 \n",
      "  Verifying  : python-2.7.18-1.amzn2.x86_64                               75/87 \n",
      "  Verifying  : libcurl-7.61.1-12.amzn2.0.1.x86_64                         76/87 \n",
      "  Verifying  : strace-4.22-1.amzn2.0.2.x86_64                             77/87 \n",
      "  Verifying  : tzdata-2019c-1.amzn2.noarch                                78/87 \n",
      "  Verifying  : amazon-ssm-agent-2.3.714.0-1.amzn2.x86_64                  79/87 \n",
      "  Verifying  : amazon-linux-extras-1.6.11-1.amzn2.noarch                  80/87 \n",
      "  Verifying  : ca-certificates-2019.2.32-76.amzn2.0.2.noarch              81/87 \n",
      "  Verifying  : gettext-0.19.8.1-2.amzn2.0.2.x86_64                        82/87 \n",
      "  Verifying  : python-urllib3-1.24.3-1.amzn2.0.1.noarch                   83/87 \n",
      "  Verifying  : gettext-libs-0.19.8.1-2.amzn2.0.2.x86_64                   84/87 \n",
      "  Verifying  : glibc-locale-source-2.26-34.amzn2.x86_64                   85/87 \n",
      "  Verifying  : rsyslog-8.24.0-41.amzn2.2.1.x86_64                         86/87 \n",
      "  Verifying  : p11-kit-trust-0.23.5-3.amzn2.0.2.x86_64                    87/87 \n",
      "\n",
      "Installed:\n",
      "  kernel.x86_64 0:4.14.193-149.317.amzn2                                        \n",
      "\n",
      "Updated:\n",
      "  amazon-linux-extras.noarch 0:1.6.12-1.amzn2                                   \n",
      "  amazon-linux-extras-yum-plugin.noarch 0:1.6.12-1.amzn2                        \n",
      "  amazon-ssm-agent.x86_64 0:2.3.1319.0-1.amzn2                                  \n",
      "  awscli.noarch 0:1.18.107-1.amzn2.0.1                                          \n",
      "  bind-export-libs.x86_64 32:9.11.4-9.P2.amzn2.0.4                              \n",
      "  bind-libs.x86_64 32:9.11.4-9.P2.amzn2.0.4                                     \n",
      "  bind-libs-lite.x86_64 32:9.11.4-9.P2.amzn2.0.4                                \n",
      "  bind-license.noarch 32:9.11.4-9.P2.amzn2.0.4                                  \n",
      "  bind-utils.x86_64 32:9.11.4-9.P2.amzn2.0.4                                    \n",
      "  ca-certificates.noarch 0:2019.2.32-76.amzn2.0.3                               \n",
      "  curl.x86_64 0:7.61.1-12.amzn2.0.2                                             \n",
      "  ec2-net-utils.noarch 0:1.4-2.amzn2                                            \n",
      "  file.x86_64 0:5.11-36.amzn2.0.1                                               \n",
      "  file-libs.x86_64 0:5.11-36.amzn2.0.1                                          \n",
      "  gettext.x86_64 0:0.19.8.1-3.amzn2                                             \n",
      "  gettext-libs.x86_64 0:0.19.8.1-3.amzn2                                        \n",
      "  glibc.x86_64 0:2.26-35.amzn2                                                  \n",
      "  glibc-all-langpacks.x86_64 0:2.26-35.amzn2                                    \n",
      "  glibc-common.x86_64 0:2.26-35.amzn2                                           \n",
      "  glibc-locale-source.x86_64 0:2.26-35.amzn2                                    \n",
      "  glibc-minimal-langpack.x86_64 0:2.26-35.amzn2                                 \n",
      "  json-c.x86_64 0:0.11-4.amzn2.0.4                                              \n",
      "  kpatch-runtime.noarch 0:0.8.0-4.amzn2                                         \n",
      "  libcrypt.x86_64 0:2.26-35.amzn2                                               \n",
      "  libcurl.x86_64 0:7.61.1-12.amzn2.0.2                                          \n",
      "  libgcc.x86_64 0:7.3.1-9.amzn2                                                 \n",
      "  libgomp.x86_64 0:7.3.1-9.amzn2                                                \n",
      "  libstdc++.x86_64 0:7.3.1-9.amzn2                                              \n",
      "  microcode_ctl.x86_64 2:2.1-47.amzn2.0.7                                       \n",
      "  p11-kit.x86_64 0:0.23.19-1.amzn2                                              \n",
      "  p11-kit-trust.x86_64 0:0.23.19-1.amzn2                                        \n",
      "  python.x86_64 0:2.7.18-1.amzn2.0.2                                            \n",
      "  python-devel.x86_64 0:2.7.18-1.amzn2.0.2                                      \n",
      "  python-libs.x86_64 0:2.7.18-1.amzn2.0.2                                       \n",
      "  python-urllib3.noarch 0:1.25.7-1.amzn2.0.1                                    \n",
      "  python2-botocore.noarch 0:1.17.31-1.amzn2.0.1                                 \n",
      "  python2-rsa.noarch 0:3.4.1-1.amzn2.0.1                                        \n",
      "  rsyslog.x86_64 0:8.24.0-52.amzn2                                              \n",
      "  selinux-policy.noarch 0:3.13.1-192.amzn2.6.3                                  \n",
      "  selinux-policy-targeted.noarch 0:3.13.1-192.amzn2.6.3                         \n",
      "  strace.x86_64 0:4.26-1.amzn2.0.1                                              \n",
      "  system-release.x86_64 1:2-12.amzn2                                            \n",
      "  tzdata.noarch 0:2020a-1.amzn2                                                 \n",
      "\n",
      "Complete!\n",
      "\n"
     ]
    },
    {
     "name": "stdout",
     "output_type": "stream",
     "text": [
      "2020-09-13 16:29:40,622 - efsync - Loaded plugins: extras_suggestions, langpacks, priorities, update-motd\n",
      "Resolving Dependencies\n",
      "--> Running transaction check\n",
      "---> Package docker.x86_64 0:19.03.6ce-4.amzn2 will be installed\n",
      "--> Processing Dependency: runc >= 1.0.0 for package: docker-19.03.6ce-4.amzn2.x86_64\n",
      "--> Processing Dependency: containerd >= 1.3.2 for package: docker-19.03.6ce-4.amzn2.x86_64\n",
      "--> Processing Dependency: pigz for package: docker-19.03.6ce-4.amzn2.x86_64\n",
      "--> Processing Dependency: libcgroup for package: docker-19.03.6ce-4.amzn2.x86_64\n",
      "--> Running transaction check\n",
      "---> Package containerd.x86_64 0:1.3.2-1.amzn2 will be installed\n",
      "---> Package libcgroup.x86_64 0:0.41-21.amzn2 will be installed\n",
      "---> Package pigz.x86_64 0:2.3.4-1.amzn2.0.1 will be installed\n",
      "---> Package runc.x86_64 0:1.0.0-0.1.20200204.gitdc9208a.amzn2 will be installed\n",
      "--> Finished Dependency Resolution\n",
      "\n",
      "Dependencies Resolved\n",
      "\n",
      "================================================================================\n",
      " Package    Arch   Version                              Repository         Size\n",
      "================================================================================\n",
      "Installing:\n",
      " docker     x86_64 19.03.6ce-4.amzn2                    amzn2extra-docker  37 M\n",
      "Installing for dependencies:\n",
      " containerd x86_64 1.3.2-1.amzn2                        amzn2extra-docker  24 M\n",
      " libcgroup  x86_64 0.41-21.amzn2                        amzn2-core         66 k\n",
      " pigz       x86_64 2.3.4-1.amzn2.0.1                    amzn2-core         81 k\n",
      " runc       x86_64 1.0.0-0.1.20200204.gitdc9208a.amzn2  amzn2extra-docker 2.6 M\n",
      "\n",
      "Transaction Summary\n",
      "================================================================================\n",
      "Install  1 Package (+4 Dependent packages)\n",
      "\n",
      "Total download size: 65 M\n",
      "Installed size: 271 M\n",
      "Downloading packages:\n",
      "--------------------------------------------------------------------------------\n",
      "Total                                               87 MB/s |  65 MB  00:00     \n",
      "Running transaction check\n",
      "Running transaction test\n",
      "Transaction test succeeded\n",
      "Running transaction\n",
      "  Installing : runc-1.0.0-0.1.20200204.gitdc9208a.amzn2.x86_64              1/5 \n",
      "  Installing : containerd-1.3.2-1.amzn2.x86_64                              2/5 \n",
      "  Installing : libcgroup-0.41-21.amzn2.x86_64                               3/5 \n",
      "  Installing : pigz-2.3.4-1.amzn2.0.1.x86_64                                4/5 \n",
      "  Installing : docker-19.03.6ce-4.amzn2.x86_64                              5/5 \n",
      "  Verifying  : docker-19.03.6ce-4.amzn2.x86_64                              1/5 \n",
      "  Verifying  : containerd-1.3.2-1.amzn2.x86_64                              2/5 \n",
      "  Verifying  : pigz-2.3.4-1.amzn2.0.1.x86_64                                3/5 \n",
      "  Verifying  : runc-1.0.0-0.1.20200204.gitdc9208a.amzn2.x86_64              4/5 \n",
      "  Verifying  : libcgroup-0.41-21.amzn2.x86_64                               5/5 \n",
      "\n",
      "Installed:\n",
      "  docker.x86_64 0:19.03.6ce-4.amzn2                                             \n",
      "\n",
      "Dependency Installed:\n",
      "  containerd.x86_64 0:1.3.2-1.amzn2                                             \n",
      "  libcgroup.x86_64 0:0.41-21.amzn2                                              \n",
      "  pigz.x86_64 0:2.3.4-1.amzn2.0.1                                               \n",
      "  runc.x86_64 0:1.0.0-0.1.20200204.gitdc9208a.amzn2                             \n",
      "\n",
      "Complete!\n",
      "\n",
      "2020-09-13 16:29:41,594 - efsync - \n",
      "2020-09-13 16:32:48,295 - efsync - Collecting pyjokes\n",
      "  Downloading pyjokes-0.6.0-py2.py3-none-any.whl (26 kB)\n",
      "Collecting pandas\n",
      "  Downloading pandas-1.1.2-cp38-cp38-manylinux1_x86_64.whl (10.4 MB)\n",
      "Collecting numpy\n",
      "  Downloading numpy-1.19.2-cp38-cp38-manylinux2010_x86_64.whl (14.5 MB)\n",
      "Collecting requests\n",
      "  Downloading requests-2.24.0-py2.py3-none-any.whl (61 kB)\n",
      "Collecting python-dateutil>=2.7.3\n",
      "  Downloading python_dateutil-2.8.1-py2.py3-none-any.whl (227 kB)\n",
      "Collecting pytz>=2017.2\n",
      "  Downloading pytz-2020.1-py2.py3-none-any.whl (510 kB)\n",
      "Collecting chardet<4,>=3.0.2\n",
      "  Downloading chardet-3.0.4-py2.py3-none-any.whl (133 kB)\n",
      "Collecting urllib3!=1.25.0,!=1.25.1,<1.26,>=1.21.1\n",
      "  Downloading urllib3-1.25.10-py2.py3-none-any.whl (127 kB)\n",
      "Collecting idna<3,>=2.5\n",
      "  Downloading idna-2.10-py2.py3-none-any.whl (58 kB)\n",
      "Collecting certifi>=2017.4.17\n",
      "  Downloading certifi-2020.6.20-py2.py3-none-any.whl (156 kB)\n",
      "Collecting six>=1.5\n",
      "  Downloading six-1.15.0-py2.py3-none-any.whl (10 kB)\n",
      "Installing collected packages: pyjokes, numpy, six, python-dateutil, pytz, pandas, chardet, urllib3, idna, certifi, requests\n",
      "Successfully installed certifi-2020.6.20 chardet-3.0.4 idna-2.10 numpy-1.19.2 pandas-1.1.2 pyjokes-0.6.0 python-dateutil-2.8.1 pytz-2020.1 requests-2.24.0 six-1.15.0 urllib3-1.25.10\n",
      "\n",
      "2020-09-13 16:32:48,301 - efsync - installed pip packages\n",
      "2020-09-13 16:32:48,302 - efsync - coping files from efsync/test/data to ec2\n",
      "2020-09-13 16:32:48,894 - efsync - copied files from efsync/test/data\n",
      "2020-09-13 16:32:48,895 - efsync - stopping ec2 instance with instance id i-0be4c4549336d5e51\n",
      "2020-09-13 16:34:49,933 - efsync - ec2 instance stopped\n",
      "2020-09-13 16:34:49,934 - efsync - deleting ssh key\n",
      "2020-09-13 16:34:50,204 - efsync - key deleted\n",
      "2020-09-13 16:34:50,205 - efsync - deleting security group\n",
      "2020-09-13 16:34:50,470 - efsync - security group deleted\n",
      "2020-09-13 16:34:50,472 - efsync - #################### finished after 7.4695 minutes ####################\n"
     ]
    },
    {
     "data": {
      "text/plain": [
       "True"
      ]
     },
     "execution_count": 17,
     "metadata": {},
     "output_type": "execute_result"
    }
   ],
   "source": [
    "from efsync import efsync\n",
    "\n",
    "efsync('./efsync.yaml')"
   ]
  },
  {
   "cell_type": "markdown",
   "metadata": {},
   "source": [
    "# Only Upload files from local to efs "
   ]
  },
  {
   "cell_type": "code",
   "execution_count": 20,
   "metadata": {},
   "outputs": [
    {
     "name": "stdout",
     "output_type": "stream",
     "text": [
      "Overwriting ./efsync.yaml\n"
     ]
    }
   ],
   "source": [
    "%%writefile ./efsync.yaml\n",
    "\n",
    "# extra directory for file upload like ML models\n",
    "file_dir: data\n",
    "# name of the directory where your file from <file_dir> will be uploaded\n",
    "file_dir_on_ec2: ml\n",
    "\n",
    "# Defines if the efs should be cleaned up before uploading\n",
    "clean_efs: False\n",
    "# aws profile configuration\n",
    "aws_profile: schueler-vz\n",
    "aws_region: eu-central-1\n",
    "\n",
    "#aws vpc and ec2 shit\n",
    "efs_filesystem_id: fs-2226b27a\n",
    "subnet_Id: subnet-17f97a7d\n",
    "ec2_key_name: efsync-asd913fjgq3"
   ]
  },
  {
   "cell_type": "code",
   "execution_count": 21,
   "metadata": {},
   "outputs": [
    {
     "name": "stdout",
     "output_type": "stream",
     "text": [
      "\u001b[1m\u001b[36mdata\u001b[m\u001b[m/                     efsync_cli_example.ipynb\r\n",
      "efsync.yaml               requirements.txt\r\n"
     ]
    }
   ],
   "source": [
    "ls "
   ]
  },
  {
   "cell_type": "markdown",
   "metadata": {},
   "source": [
    "### Use SDK"
   ]
  },
  {
   "cell_type": "code",
   "execution_count": 22,
   "metadata": {},
   "outputs": [
    {
     "name": "stdout",
     "output_type": "stream",
     "text": [
      "2020-09-13 16:36:46,375 - efsync - starting....\n",
      "2020-09-13 16:36:46,376 - efsync - loading config from ./efsync.yaml\n",
      "2020-09-13 16:36:46,377 - efsync - loading yaml configuration\n",
      "2020-09-13 16:36:46,380 - efsync - create boto3 session\n",
      "2020-09-13 16:36:46,395 - efsync - loaded config\n",
      "2020-09-13 16:36:46,396 - efsync - create .efsync directory\n",
      "2020-09-13 16:36:46,396 - efsync - created directory\n",
      "2020-09-13 16:36:46,396 - efsync - creating security group\n",
      "2020-09-13 16:36:46,805 - efsync - created security group sg-09161124f58ef6e0a\n",
      "2020-09-13 16:36:46,806 - efsync - creating ssh key for scp and ssh in .efsync\n",
      "2020-09-13 16:36:46,990 - efsync - created ssh key for scp and ssh in .efsync directory\n",
      "2020-09-13 16:36:46,990 - efsync - starting ec2 instance with security group sg-09161124f58ef6e0a and subnet_Id subnet-17f97a7d\n",
      "2020-09-13 16:37:44,077 - efsync - started ec2 instance\n",
      "2020-09-13 16:37:44,078 - efsync - mount efs file system with instance i-06966ae16709bdc95\n",
      "2020-09-13 16:37:44,079 - efsync - sleeping 30 seconds.... wait ec2 is up completely\n",
      "2020-09-13 16:37:46,284 - efsync - Loaded plugins: extras_suggestions, langpacks, priorities, update-motd\n",
      "Resolving Dependencies\n",
      "--> Running transaction check\n",
      "---> Package amazon-efs-utils.noarch 0:1.27.1-1.amzn2 will be installed\n",
      "--> Processing Dependency: stunnel >= 4.56 for package: amazon-efs-utils-1.27.1-1.amzn2.noarch\n",
      "--> Running transaction check\n",
      "---> Package stunnel.x86_64 0:4.56-6.amzn2.0.3 will be installed\n",
      "--> Finished Dependency Resolution\n",
      "\n",
      "Dependencies Resolved\n",
      "\n",
      "================================================================================\n",
      " Package               Arch        Version                Repository       Size\n",
      "================================================================================\n",
      "Installing:\n",
      " amazon-efs-utils      noarch      1.27.1-1.amzn2         amzn2-core       33 k\n",
      "Installing for dependencies:\n",
      " stunnel               x86_64      4.56-6.amzn2.0.3       amzn2-core      149 k\n",
      "\n",
      "Transaction Summary\n",
      "================================================================================\n",
      "Install  1 Package (+1 Dependent package)\n",
      "\n",
      "Total download size: 182 k\n",
      "Installed size: 421 k\n",
      "Downloading packages:\n",
      "--------------------------------------------------------------------------------\n",
      "Total                                              1.0 MB/s | 182 kB  00:00     \n",
      "Running transaction check\n",
      "Running transaction test\n",
      "Transaction test succeeded\n",
      "Running transaction\n",
      "  Installing : stunnel-4.56-6.amzn2.0.3.x86_64                              1/2 \n",
      "  Installing : amazon-efs-utils-1.27.1-1.amzn2.noarch                       2/2 \n",
      "  Verifying  : stunnel-4.56-6.amzn2.0.3.x86_64                              1/2 \n",
      "  Verifying  : amazon-efs-utils-1.27.1-1.amzn2.noarch                       2/2 \n",
      "\n",
      "Installed:\n",
      "  amazon-efs-utils.noarch 0:1.27.1-1.amzn2                                      \n",
      "\n",
      "Dependency Installed:\n",
      "  stunnel.x86_64 0:4.56-6.amzn2.0.3                                             \n",
      "\n",
      "Complete!\n",
      "\n",
      "2020-09-13 16:37:46,615 - efsync - \n",
      "2020-09-13 16:37:46,670 - efsync - Adjust permission of mounted efs/\n",
      "2020-09-13 16:37:46,760 - efsync - \n",
      "2020-09-13 16:37:46,924 - efsync - Filesystem      Size  Used Avail Use% Mounted on\n",
      "\n",
      "2020-09-13 16:37:46,931 - efsync - mounted efs\n",
      "2020-09-13 16:37:46,932 - efsync - coping files from data to ec2\n",
      "2020-09-13 16:37:47,890 - efsync - copied files from data\n",
      "2020-09-13 16:37:47,891 - efsync - stopping ec2 instance with instance id i-06966ae16709bdc95\n",
      "2020-09-13 16:38:18,614 - efsync - ec2 instance stopped\n",
      "2020-09-13 16:38:18,614 - efsync - deleting ssh key\n",
      "2020-09-13 16:38:18,866 - efsync - key deleted\n",
      "2020-09-13 16:38:18,867 - efsync - deleting security group\n",
      "2020-09-13 16:38:19,165 - efsync - security group deleted\n",
      "2020-09-13 16:38:19,167 - efsync - #################### finished after 1.5465000000000002 minutes ####################\n"
     ]
    },
    {
     "data": {
      "text/plain": [
       "True"
      ]
     },
     "execution_count": 22,
     "metadata": {},
     "output_type": "execute_result"
    }
   ],
   "source": [
    "from efsync import efsync\n",
    "\n",
    "efsync('./efsync.yaml')"
   ]
  },
  {
   "cell_type": "markdown",
   "metadata": {},
   "source": [
    "## Use CLI with yaml"
   ]
  },
  {
   "cell_type": "code",
   "execution_count": null,
   "metadata": {},
   "outputs": [],
   "source": [
    "!efsync -cf efsync.yaml"
   ]
  },
  {
   "cell_type": "markdown",
   "metadata": {},
   "source": [
    "## Use CLI with args"
   ]
  },
  {
   "cell_type": "code",
   "execution_count": null,
   "metadata": {},
   "outputs": [],
   "source": [
    "!efsync -fd tmp \\ \n",
    "        -fdoe tmp \\\n",
    "        -ap schueler \\\n",
    "        -ar eu-central-1 \\\n",
    "        -sbd <subnet_id> \\\n",
    "        -ekn <ec2-key-name> \\\n",
    "        -efi  <efs_filesystem_id>\n"
   ]
  }
 ],
 "metadata": {
  "colab": {
   "collapsed_sections": [],
   "name": "Private efsync",
   "provenance": []
  },
  "kernelspec": {
   "display_name": "Python 3.7.6 64-bit",
   "language": "python",
   "name": "python37664bite03a7cc19d774d11946d4c0c2647c832"
  },
  "language_info": {
   "codemirror_mode": {
    "name": "ipython",
    "version": 3
   },
   "file_extension": ".py",
   "mimetype": "text/x-python",
   "name": "python",
   "nbconvert_exporter": "python",
   "pygments_lexer": "ipython3",
   "version": "3.7.6"
  }
 },
 "nbformat": 4,
 "nbformat_minor": 1
}
