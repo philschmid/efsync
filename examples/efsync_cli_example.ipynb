{
 "cells": [
  {
   "cell_type": "markdown",
   "metadata": {
    "colab_type": "text",
    "id": "4M38h_Sxipqq"
   },
   "source": [
    "# Example Notebook for efsync\n",
    "\n",
    "this notebooks includes examples for the `CLI` and the `SDK`. \n",
    "\n",
    "This Notebook cannot be runned in google colab. We cannot run it in google colab to pls download it and try it on your local pc."
   ]
  },
  {
   "cell_type": "markdown",
   "metadata": {
    "colab_type": "text",
    "id": "8f0omB1hiyXB"
   },
   "source": [
    "# Install the library"
   ]
  },
  {
   "cell_type": "code",
   "execution_count": 38,
   "metadata": {
    "scrolled": false
   },
   "outputs": [
    {
     "name": "stdout",
     "output_type": "stream",
     "text": [
      "/Users/philippschmid/projects/personal/efsync\n",
      "['efsync', 'efsync.test', 'efsync.utils', 'efsync.utils.helper']\n",
      "running sdist\n",
      "running egg_info\n",
      "writing efsync.egg-info/PKG-INFO\n",
      "writing dependency_links to efsync.egg-info/dependency_links.txt\n",
      "writing entry points to efsync.egg-info/entry_points.txt\n",
      "writing requirements to efsync.egg-info/requires.txt\n",
      "writing top-level names to efsync.egg-info/top_level.txt\n",
      "reading manifest file 'efsync.egg-info/SOURCES.txt'\n",
      "reading manifest template 'MANIFEST.in'\n",
      "writing manifest file 'efsync.egg-info/SOURCES.txt'\n",
      "running check\n",
      "creating efsync-0.2.10\n",
      "creating efsync-0.2.10/efsync\n",
      "creating efsync-0.2.10/efsync.egg-info\n",
      "creating efsync-0.2.10/efsync/test\n",
      "creating efsync-0.2.10/efsync/utils\n",
      "creating efsync-0.2.10/efsync/utils/helper\n",
      "copying files to efsync-0.2.10...\n",
      "copying LICENSE -> efsync-0.2.10\n",
      "copying MANIFEST.in -> efsync-0.2.10\n",
      "copying README.md -> efsync-0.2.10\n",
      "copying setup.py -> efsync-0.2.10\n",
      "copying efsync/__init__.py -> efsync-0.2.10/efsync\n",
      "copying efsync/efsync_cli.py -> efsync-0.2.10/efsync\n",
      "copying efsync/logger.py -> efsync-0.2.10/efsync\n",
      "copying efsync/main.py -> efsync-0.2.10/efsync\n",
      "copying efsync.egg-info/PKG-INFO -> efsync-0.2.10/efsync.egg-info\n",
      "copying efsync.egg-info/SOURCES.txt -> efsync-0.2.10/efsync.egg-info\n",
      "copying efsync.egg-info/dependency_links.txt -> efsync-0.2.10/efsync.egg-info\n",
      "copying efsync.egg-info/entry_points.txt -> efsync-0.2.10/efsync.egg-info\n",
      "copying efsync.egg-info/requires.txt -> efsync-0.2.10/efsync.egg-info\n",
      "copying efsync.egg-info/top_level.txt -> efsync-0.2.10/efsync.egg-info\n",
      "copying efsync/test/__init__.py -> efsync-0.2.10/efsync/test\n",
      "copying efsync/test/test_main.py -> efsync-0.2.10/efsync/test\n",
      "copying efsync/test/test_utils.py -> efsync-0.2.10/efsync/test\n",
      "copying efsync/utils/__init__.py -> efsync-0.2.10/efsync/utils\n",
      "copying efsync/utils/dir.py -> efsync-0.2.10/efsync/utils\n",
      "copying efsync/utils/ec2_instance.py -> efsync-0.2.10/efsync/utils\n",
      "copying efsync/utils/ec2_mount_efs.py -> efsync-0.2.10/efsync/utils\n",
      "copying efsync/utils/ec2_security_group.py -> efsync-0.2.10/efsync/utils\n",
      "copying efsync/utils/ec2_waiter.py -> efsync-0.2.10/efsync/utils\n",
      "copying efsync/utils/pip_install.py -> efsync-0.2.10/efsync/utils\n",
      "copying efsync/utils/scp_to_ec2.py -> efsync-0.2.10/efsync/utils\n",
      "copying efsync/utils/ssh_key.py -> efsync-0.2.10/efsync/utils\n",
      "copying efsync/utils/helper/__init__.py -> efsync-0.2.10/efsync/utils/helper\n",
      "copying efsync/utils/helper/createSSHClient.py -> efsync-0.2.10/efsync/utils/helper\n",
      "Writing efsync-0.2.10/setup.cfg\n",
      "Creating tar archive\n",
      "removing 'efsync-0.2.10' (and everything under it)\n",
      "running bdist_wheel\n",
      "running build\n",
      "running build_py\n",
      "installing to build/bdist.macosx-10.9-x86_64/wheel\n",
      "running install\n",
      "running install_lib\n",
      "creating build/bdist.macosx-10.9-x86_64/wheel\n",
      "creating build/bdist.macosx-10.9-x86_64/wheel/efsync\n",
      "creating build/bdist.macosx-10.9-x86_64/wheel/efsync/test\n",
      "copying build/lib/efsync/test/test_utils.py -> build/bdist.macosx-10.9-x86_64/wheel/efsync/test\n",
      "copying build/lib/efsync/test/__init__.py -> build/bdist.macosx-10.9-x86_64/wheel/efsync/test\n",
      "copying build/lib/efsync/test/test_main.py -> build/bdist.macosx-10.9-x86_64/wheel/efsync/test\n",
      "copying build/lib/efsync/efsync_cli.py -> build/bdist.macosx-10.9-x86_64/wheel/efsync\n",
      "copying build/lib/efsync/__init__.py -> build/bdist.macosx-10.9-x86_64/wheel/efsync\n",
      "creating build/bdist.macosx-10.9-x86_64/wheel/efsync/utils\n",
      "copying build/lib/efsync/utils/ssh_key.py -> build/bdist.macosx-10.9-x86_64/wheel/efsync/utils\n",
      "copying build/lib/efsync/utils/ec2_waiter.py -> build/bdist.macosx-10.9-x86_64/wheel/efsync/utils\n",
      "copying build/lib/efsync/utils/dir.py -> build/bdist.macosx-10.9-x86_64/wheel/efsync/utils\n",
      "copying build/lib/efsync/utils/scp_to_ec2.py -> build/bdist.macosx-10.9-x86_64/wheel/efsync/utils\n",
      "copying build/lib/efsync/utils/pip_install.py -> build/bdist.macosx-10.9-x86_64/wheel/efsync/utils\n",
      "copying build/lib/efsync/utils/__init__.py -> build/bdist.macosx-10.9-x86_64/wheel/efsync/utils\n",
      "copying build/lib/efsync/utils/ec2_mount_efs.py -> build/bdist.macosx-10.9-x86_64/wheel/efsync/utils\n",
      "copying build/lib/efsync/utils/ec2_security_group.py -> build/bdist.macosx-10.9-x86_64/wheel/efsync/utils\n",
      "copying build/lib/efsync/utils/ec2_instance.py -> build/bdist.macosx-10.9-x86_64/wheel/efsync/utils\n",
      "creating build/bdist.macosx-10.9-x86_64/wheel/efsync/utils/helper\n",
      "copying build/lib/efsync/utils/helper/createSSHClient.py -> build/bdist.macosx-10.9-x86_64/wheel/efsync/utils/helper\n",
      "copying build/lib/efsync/utils/helper/__init__.py -> build/bdist.macosx-10.9-x86_64/wheel/efsync/utils/helper\n",
      "copying build/lib/efsync/logger.py -> build/bdist.macosx-10.9-x86_64/wheel/efsync\n",
      "copying build/lib/efsync/main.py -> build/bdist.macosx-10.9-x86_64/wheel/efsync\n",
      "running install_egg_info\n",
      "Copying efsync.egg-info to build/bdist.macosx-10.9-x86_64/wheel/efsync-0.2.10-py3.7.egg-info\n",
      "running install_scripts\n",
      "adding license file \"LICENSE\" (matched pattern \"LICEN[CS]E*\")\n",
      "creating build/bdist.macosx-10.9-x86_64/wheel/efsync-0.2.10.dist-info/WHEEL\n",
      "creating 'dist/efsync-0.2.10-py3-none-any.whl' and adding 'build/bdist.macosx-10.9-x86_64/wheel' to it\n",
      "adding 'efsync/__init__.py'\n",
      "adding 'efsync/efsync_cli.py'\n",
      "adding 'efsync/logger.py'\n",
      "adding 'efsync/main.py'\n",
      "adding 'efsync/test/__init__.py'\n",
      "adding 'efsync/test/test_main.py'\n",
      "adding 'efsync/test/test_utils.py'\n",
      "adding 'efsync/utils/__init__.py'\n",
      "adding 'efsync/utils/dir.py'\n",
      "adding 'efsync/utils/ec2_instance.py'\n",
      "adding 'efsync/utils/ec2_mount_efs.py'\n",
      "adding 'efsync/utils/ec2_security_group.py'\n",
      "adding 'efsync/utils/ec2_waiter.py'\n",
      "adding 'efsync/utils/pip_install.py'\n",
      "adding 'efsync/utils/scp_to_ec2.py'\n",
      "adding 'efsync/utils/ssh_key.py'\n",
      "adding 'efsync/utils/helper/__init__.py'\n",
      "adding 'efsync/utils/helper/createSSHClient.py'\n",
      "adding 'efsync-0.2.10.dist-info/LICENSE'\n",
      "adding 'efsync-0.2.10.dist-info/METADATA'\n",
      "adding 'efsync-0.2.10.dist-info/WHEEL'\n",
      "adding 'efsync-0.2.10.dist-info/entry_points.txt'\n",
      "adding 'efsync-0.2.10.dist-info/top_level.txt'\n",
      "adding 'efsync-0.2.10.dist-info/RECORD'\n",
      "removing build/bdist.macosx-10.9-x86_64/wheel\n"
     ]
    }
   ],
   "source": [
    "%cd ..\n",
    "!python3 setup.py sdist bdist_wheel"
   ]
  },
  {
   "cell_type": "code",
   "execution_count": 39,
   "metadata": {},
   "outputs": [
    {
     "name": "stdout",
     "output_type": "stream",
     "text": [
      "Processing ./dist/efsync-0.2.10-py3-none-any.whl\n",
      "Requirement already satisfied: paramiko in /Users/philippschmid/.anaconda3/envs/dev/lib/python3.7/site-packages (from efsync==0.2.10) (2.7.1)\n",
      "Requirement already satisfied: boto3 in /Users/philippschmid/.anaconda3/envs/dev/lib/python3.7/site-packages (from efsync==0.2.10) (1.9.66)\n",
      "Requirement already satisfied: scp in /Users/philippschmid/.anaconda3/envs/dev/lib/python3.7/site-packages (from efsync==0.2.10) (0.13.2)\n",
      "Requirement already satisfied: pyaml in /Users/philippschmid/.anaconda3/envs/dev/lib/python3.7/site-packages (from efsync==0.2.10) (20.4.0)\n",
      "Requirement already satisfied: bcrypt>=3.1.3 in /Users/philippschmid/.anaconda3/envs/dev/lib/python3.7/site-packages (from paramiko->efsync==0.2.10) (3.1.7)\n",
      "Requirement already satisfied: cryptography>=2.5 in /Users/philippschmid/.anaconda3/envs/dev/lib/python3.7/site-packages (from paramiko->efsync==0.2.10) (2.9.2)\n",
      "Requirement already satisfied: pynacl>=1.0.1 in /Users/philippschmid/.anaconda3/envs/dev/lib/python3.7/site-packages (from paramiko->efsync==0.2.10) (1.3.0)\n",
      "Requirement already satisfied: botocore<1.13.0,>=1.12.66 in /Users/philippschmid/.anaconda3/envs/dev/lib/python3.7/site-packages (from boto3->efsync==0.2.10) (1.12.253)\n",
      "Requirement already satisfied: jmespath<1.0.0,>=0.7.1 in /Users/philippschmid/.anaconda3/envs/dev/lib/python3.7/site-packages (from boto3->efsync==0.2.10) (0.9.5)\n",
      "Requirement already satisfied: s3transfer<0.2.0,>=0.1.10 in /Users/philippschmid/.anaconda3/envs/dev/lib/python3.7/site-packages (from boto3->efsync==0.2.10) (0.1.13)\n",
      "Requirement already satisfied: PyYAML in /Users/philippschmid/.anaconda3/envs/dev/lib/python3.7/site-packages (from pyaml->efsync==0.2.10) (5.3.1)\n",
      "Requirement already satisfied: six>=1.4.1 in /Users/philippschmid/.anaconda3/envs/dev/lib/python3.7/site-packages (from bcrypt>=3.1.3->paramiko->efsync==0.2.10) (1.14.0)\n",
      "Requirement already satisfied: cffi>=1.1 in /Users/philippschmid/.anaconda3/envs/dev/lib/python3.7/site-packages (from bcrypt>=3.1.3->paramiko->efsync==0.2.10) (1.14.0)\n",
      "Requirement already satisfied: python-dateutil<3.0.0,>=2.1; python_version >= \"2.7\" in /Users/philippschmid/.anaconda3/envs/dev/lib/python3.7/site-packages (from botocore<1.13.0,>=1.12.66->boto3->efsync==0.2.10) (2.8.1)\n",
      "Requirement already satisfied: urllib3<1.26,>=1.20; python_version >= \"3.4\" in /Users/philippschmid/.anaconda3/envs/dev/lib/python3.7/site-packages (from botocore<1.13.0,>=1.12.66->boto3->efsync==0.2.10) (1.25.8)\n",
      "Requirement already satisfied: docutils<0.16,>=0.10 in /Users/philippschmid/.anaconda3/envs/dev/lib/python3.7/site-packages (from botocore<1.13.0,>=1.12.66->boto3->efsync==0.2.10) (0.15.2)\n",
      "Requirement already satisfied: pycparser in /Users/philippschmid/.anaconda3/envs/dev/lib/python3.7/site-packages (from cffi>=1.1->bcrypt>=3.1.3->paramiko->efsync==0.2.10) (2.20)\n",
      "Installing collected packages: efsync\n",
      "  Attempting uninstall: efsync\n",
      "    Found existing installation: efsync 0.2.9\n",
      "    Uninstalling efsync-0.2.9:\n",
      "      Successfully uninstalled efsync-0.2.9\n",
      "Successfully installed efsync-0.2.10\n"
     ]
    }
   ],
   "source": [
    "! pip install dist/efsync-0.2.10-py3-none-any.whl "
   ]
  },
  {
   "cell_type": "code",
   "execution_count": 40,
   "metadata": {},
   "outputs": [],
   "source": [
    "#!pip install efsync --upgrade"
   ]
  },
  {
   "cell_type": "code",
   "execution_count": 41,
   "metadata": {
    "scrolled": true
   },
   "outputs": [
    {
     "name": "stdout",
     "output_type": "stream",
     "text": [
      "/Users/philippschmid/projects/personal/efsync/examples\n"
     ]
    }
   ],
   "source": [
    "%cd examples "
   ]
  },
  {
   "cell_type": "markdown",
   "metadata": {
    "colab_type": "text",
    "id": "fb2Gk-a-i2TZ"
   },
   "source": [
    "### check if it works"
   ]
  },
  {
   "cell_type": "code",
   "execution_count": 42,
   "metadata": {
    "colab": {
     "base_uri": "https://localhost:8080/",
     "height": 35
    },
    "colab_type": "code",
    "id": "LtoHAA__tq20",
    "outputId": "0867965b-b2e4-4926-ed89-9e9cb76503cf"
   },
   "outputs": [
    {
     "name": "stdout",
     "output_type": "stream",
     "text": [
      "efsync==0.2.10\r\n"
     ]
    }
   ],
   "source": [
    "!pip freeze | grep efsync"
   ]
  },
  {
   "cell_type": "code",
   "execution_count": 43,
   "metadata": {
    "colab": {
     "base_uri": "https://localhost:8080/",
     "height": 545
    },
    "colab_type": "code",
    "id": "3hc0yBfnWtj0",
    "outputId": "d3a43af3-bd5d-4c03-b96a-b2813229c90d"
   },
   "outputs": [
    {
     "name": "stdout",
     "output_type": "stream",
     "text": [
      "usage: efsync <command> [<args>]\r\n",
      "\r\n",
      "optional arguments:\r\n",
      "  -h, --help            show this help message and exit\r\n",
      "  --version, -v         show program version\r\n",
      "  --requirements REQUIREMENTS, -r REQUIREMENTS\r\n",
      "                        path of your requirements.txt\r\n",
      "  --config_file CONFIG_FILE, -cf CONFIG_FILE\r\n",
      "                        path of your efsync.yaml\r\n",
      "  --python_version PYTHON_VERSION, -py PYTHON_VERSION\r\n",
      "                        Python version used to install dependencies\r\n",
      "  --efs_pip_dir EFS_PIP_DIR, -epd EFS_PIP_DIR\r\n",
      "                        directory where the pip packages will be installed on\r\n",
      "                        efs\r\n",
      "  --efs_filesystem_id EFS_FILESYSTEM_ID, -efi EFS_FILESYSTEM_ID\r\n",
      "                        File System ID from the EFS filesystem\r\n",
      "  --clean_efs CLEAN_EFS, -ce CLEAN_EFS\r\n",
      "                        Defines if the efs should be cleaned up before\r\n",
      "                        uploading\r\n",
      "  --file_dir FILE_DIR, -fd FILE_DIR\r\n",
      "                        directory where all other files will be placed\r\n",
      "  --aws_profile AWS_PROFILE, -ap AWS_PROFILE\r\n",
      "                        name of the used AWS profile\r\n",
      "  --aws_region AWS_REGION, -ar AWS_REGION\r\n",
      "                        aws region where the efs is running\r\n",
      "  --subnet_Id SUBNET_ID, -sbd SUBNET_ID\r\n",
      "                        subnet id of the efs\r\n",
      "  --ec2_key_name EC2_KEY_NAME, -ekn EC2_KEY_NAME\r\n",
      "                        temporary key name for the ec2 instance\r\n"
     ]
    }
   ],
   "source": [
    "!efsync -h"
   ]
  },
  {
   "cell_type": "code",
   "execution_count": 44,
   "metadata": {
    "colab": {},
    "colab_type": "code",
    "id": "zuULJ80XX35E"
   },
   "outputs": [],
   "source": [
    "from efsync import efsync"
   ]
  },
  {
   "cell_type": "markdown",
   "metadata": {
    "colab_type": "text",
    "id": "S8eFPOQei7DV"
   },
   "source": [
    "# Configure AWS Credentials"
   ]
  },
  {
   "cell_type": "markdown",
   "metadata": {
    "colab_type": "text",
    "id": "mE7OJZVcjkGh"
   },
   "source": [
    "you need programmatic access to the AWS Account. The easiest way is a user with `FullAdminaccess`, but i don´t recommend this."
   ]
  },
  {
   "cell_type": "code",
   "execution_count": 45,
   "metadata": {
    "colab": {},
    "colab_type": "code",
    "id": "6p8dRyxFi-L2"
   },
   "outputs": [],
   "source": [
    "#!aws configure efsync "
   ]
  },
  {
   "cell_type": "markdown",
   "metadata": {
    "colab_type": "text",
    "id": "0zGYPaQanFD8"
   },
   "source": [
    "# CLI Example with `efsync.yaml`\n"
   ]
  },
  {
   "cell_type": "markdown",
   "metadata": {
    "colab_type": "text",
    "id": "wH_TUhesoY85"
   },
   "source": [
    "Create a `efsync.yaml`"
   ]
  },
  {
   "cell_type": "code",
   "execution_count": 46,
   "metadata": {
    "colab": {
     "base_uri": "https://localhost:8080/",
     "height": 35
    },
    "colab_type": "code",
    "id": "LuZFe36GnEsj",
    "outputId": "226cb65c-573a-420d-823e-a13414428011"
   },
   "outputs": [
    {
     "name": "stdout",
     "output_type": "stream",
     "text": [
      "Overwriting ./efsync.yaml\n"
     ]
    }
   ],
   "source": [
    "%%writefile ./efsync.yaml\n",
    "\n",
    "#lambda ci python version for pip installation\n",
    "python_version: 3.8\n",
    "# pip directory\n",
    "efs_pip_dir: lib\n",
    "# extra directory for file upload like ML models\n",
    "file_dir: ml\n",
    "# requirements file\n",
    "requirements: requirements.txt\n",
    "# Defines if the efs should be cleaned up before uploading\n",
    "clean_efs: True\n",
    "# aws profile configuration\n",
    "aws_profile: schueler-vz\n",
    "aws_region: eu-central-1\n",
    "\n",
    "#aws vpc and ec2 shit\n",
    "efs_filesystem_id: fs-2226b27a\n",
    "subnet_Id: subnet-17f97a7d\n",
    "ec2_key_name: efsync-asd913fjgq3 "
   ]
  },
  {
   "cell_type": "markdown",
   "metadata": {
    "colab_type": "text",
    "id": "07GI4BXfsOAg"
   },
   "source": [
    "# Create `requirements.txt` "
   ]
  },
  {
   "cell_type": "code",
   "execution_count": 47,
   "metadata": {
    "colab": {
     "base_uri": "https://localhost:8080/",
     "height": 35
    },
    "colab_type": "code",
    "id": "-B2gq7OpsSGt",
    "outputId": "6a97028d-1646-4fd5-8c92-0a857fed17ca"
   },
   "outputs": [
    {
     "name": "stdout",
     "output_type": "stream",
     "text": [
      "Overwriting ./requirements.txt\n"
     ]
    }
   ],
   "source": [
    "%%writefile ./requirements.txt\n",
    "\n",
    "https://download.pytorch.org/whl/cpu/torch-1.5.0%2Bcpu-cp38-cp38-linux_x86_64.whl\n",
    "transformers==3.0.2"
   ]
  },
  {
   "cell_type": "code",
   "execution_count": 48,
   "metadata": {},
   "outputs": [
    {
     "name": "stdout",
     "output_type": "stream",
     "text": [
      "Overwriting ./requirements.txt\n"
     ]
    }
   ],
   "source": [
    "%%writefile ./requirements.txt\n",
    "\n",
    "pyjokes"
   ]
  },
  {
   "cell_type": "code",
   "execution_count": 49,
   "metadata": {
    "colab": {
     "base_uri": "https://localhost:8080/",
     "height": 35
    },
    "colab_type": "code",
    "id": "Yzm_mYN0t28q",
    "outputId": "762502c1-5cdd-48aa-820d-d83a29b9e60a"
   },
   "outputs": [
    {
     "name": "stdout",
     "output_type": "stream",
     "text": [
      "efsync.yaml              logs\r\n",
      "efsync_cli_example.ipynb requirements.txt\r\n"
     ]
    }
   ],
   "source": [
    "!ls"
   ]
  },
  {
   "cell_type": "code",
   "execution_count": 50,
   "metadata": {
    "colab": {
     "base_uri": "https://localhost:8080/",
     "height": 651
    },
    "colab_type": "code",
    "id": "txcoqURWZ4Pf",
    "outputId": "6d7cf44d-6660-4d3d-e5a4-f4327511420f"
   },
   "outputs": [
    {
     "name": "stdout",
     "output_type": "stream",
     "text": [
      "2020-08-23 13:18:46,277 - efsync - starting....\n",
      "2020-08-23 13:18:46,278 - efsync - loading config from ./efsync.yaml\n",
      "2020-08-23 13:18:46,279 - efsync - loading yaml configuration\n",
      "2020-08-23 13:18:46,283 - efsync - create boto3 session\n",
      "2020-08-23 13:18:46,297 - efsync - loaded config\n",
      "2020-08-23 13:18:46,297 - efsync - create .efsync directory\n",
      "2020-08-23 13:18:46,298 - efsync - created directory\n",
      "2020-08-23 13:18:46,299 - efsync - installing pip packages to lib\n",
      "2020-08-23 13:18:47,484 - efsync - installed pip packages\n",
      "2020-08-23 13:18:47,485 - efsync - creating security group\n",
      "2020-08-23 13:18:48,071 - efsync - created security group sg-0d4249db38d0d587f\n",
      "2020-08-23 13:18:48,072 - efsync - creating ssh key for scp and ssh in .efsync\n",
      "2020-08-23 13:18:48,275 - efsync - created ssh key for scp and ssh in .efsync\n",
      "2020-08-23 13:18:48,276 - efsync - starting ec2 instance with security group sg-0d4249db38d0d587f and subnet_Id subnet-17f97a7d\n",
      "2020-08-23 13:19:20,877 - efsync - started ec2 instance\n",
      "2020-08-23 13:19:20,878 - efsync - mount efs file system with instance i-0bd2382bb06abfbb0\n",
      "2020-08-23 13:19:20,879 - efsync - sleeping 30 seconds.... wait ec2 is up completely\n",
      "2020-08-23 13:19:53,099 - efsync - Loaded plugins: extras_suggestions, langpacks, priorities, update-motd\n",
      "Resolving Dependencies\n",
      "--> Running transaction check\n",
      "---> Package amazon-efs-utils.noarch 0:1.26-3.amzn2 will be installed\n",
      "--> Processing Dependency: stunnel >= 4.56 for package: amazon-efs-utils-1.26-3.amzn2.noarch\n",
      "--> Running transaction check\n",
      "---> Package stunnel.x86_64 0:4.56-6.amzn2.0.3 will be installed\n",
      "--> Finished Dependency Resolution\n",
      "\n",
      "Dependencies Resolved\n",
      "\n",
      "================================================================================\n",
      " Package               Arch        Version                Repository       Size\n",
      "================================================================================\n",
      "Installing:\n",
      " amazon-efs-utils      noarch      1.26-3.amzn2           amzn2-core       33 k\n",
      "Installing for dependencies:\n",
      " stunnel               x86_64      4.56-6.amzn2.0.3       amzn2-core      149 k\n",
      "\n",
      "Transaction Summary\n",
      "================================================================================\n",
      "Install  1 Package (+1 Dependent package)\n",
      "\n",
      "Total download size: 182 k\n",
      "Installed size: 416 k\n",
      "Downloading packages:\n",
      "--------------------------------------------------------------------------------\n",
      "Total                                              1.6 MB/s | 182 kB  00:00     \n",
      "Running transaction check\n",
      "Running transaction test\n",
      "Transaction test succeeded\n",
      "Running transaction\n",
      "  Installing : stunnel-4.56-6.amzn2.0.3.x86_64                              1/2 \n",
      "  Installing : amazon-efs-utils-1.26-3.amzn2.noarch                         2/2 \n",
      "  Verifying  : stunnel-4.56-6.amzn2.0.3.x86_64                              1/2 \n",
      "  Verifying  : amazon-efs-utils-1.26-3.amzn2.noarch                         2/2 \n",
      "\n",
      "Installed:\n",
      "  amazon-efs-utils.noarch 0:1.26-3.amzn2                                        \n",
      "\n",
      "Dependency Installed:\n",
      "  stunnel.x86_64 0:4.56-6.amzn2.0.3                                             \n",
      "\n",
      "Complete!\n",
      "\n",
      "2020-08-23 13:19:53,430 - efsync - \n",
      "2020-08-23 13:19:53,562 - efsync - \n",
      "2020-08-23 13:19:53,743 - efsync - \n",
      "2020-08-23 13:19:53,749 - efsync - mounted efs\n",
      "2020-08-23 13:19:53,750 - efsync - coping pip packages with scp to ec2 instance\n",
      "2020-08-23 13:19:54,368 - efsync - copied pip packages\n",
      "2020-08-23 13:19:54,370 - efsync - coping files from ml to ec2\n",
      "2020-08-23 13:19:54,975 - efsync - copied files from ml\n",
      "2020-08-23 13:19:54,976 - efsync - stopping ec2 instance with instance id i-0bd2382bb06abfbb0\n",
      "2020-08-23 13:21:56,384 - efsync - ec2 instance stopped\n",
      "2020-08-23 13:21:56,386 - efsync - deleting ssh key\n",
      "2020-08-23 13:21:56,631 - efsync - key deleted\n",
      "2020-08-23 13:21:56,631 - efsync - deleting security group\n",
      "2020-08-23 13:21:56,951 - efsync - security group deleted\n",
      "2020-08-23 13:21:56,952 - efsync - #################### finished after 190.68 seconds ####################\n"
     ]
    }
   ],
   "source": [
    "from efsync import efsync\n",
    "\n",
    "efsync('./efsync.yaml')"
   ]
  },
  {
   "cell_type": "code",
   "execution_count": null,
   "metadata": {},
   "outputs": [],
   "source": []
  }
 ],
 "metadata": {
  "colab": {
   "collapsed_sections": [],
   "name": "Private efsync",
   "provenance": []
  },
  "kernelspec": {
   "display_name": "Python 3.7.6 64-bit",
   "language": "python",
   "name": "python37664bite03a7cc19d774d11946d4c0c2647c832"
  },
  "language_info": {
   "codemirror_mode": {
    "name": "ipython",
    "version": 3
   },
   "file_extension": ".py",
   "mimetype": "text/x-python",
   "name": "python",
   "nbconvert_exporter": "python",
   "pygments_lexer": "ipython3",
   "version": "3.7.6"
  }
 },
 "nbformat": 4,
 "nbformat_minor": 1
}
